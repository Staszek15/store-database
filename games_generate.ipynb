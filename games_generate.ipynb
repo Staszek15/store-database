{
 "cells": [
  {
   "cell_type": "code",
   "execution_count": 10,
   "metadata": {},
   "outputs": [],
   "source": [
    "import pandas as pd\n",
    "import numpy as np"
   ]
  },
  {
   "attachments": {},
   "cell_type": "markdown",
   "metadata": {},
   "source": [
    "# wybór wierszy z tabeli"
   ]
  },
  {
   "cell_type": "code",
   "execution_count": 168,
   "metadata": {},
   "outputs": [],
   "source": [
    "games = pd.read_excel('C:/Users/wypyc/Desktop/semestr_6/bazy_danych/projekt/store-database/data_excel/all_games.xlsx')\n",
    "games_amount = 50\n",
    "\n",
    "indexes = [np.random.randint(int(games.ID.min()), int(games.ID.max())) for i in range(games_amount)]\n",
    "#games = games[games.ID.isna() == False]\n",
    "games = games.dropna(subset=['ID', 'Domains'])\n",
    "games.ID = games.ID.astype(int)"
   ]
  },
  {
   "cell_type": "code",
   "execution_count": 169,
   "metadata": {},
   "outputs": [],
   "source": [
    "indexes = [np.random.choice((list(games.ID))) for i in range(games_amount)]\n",
    "selected_games = games[games.ID.isin(indexes)]"
   ]
  },
  {
   "cell_type": "code",
   "execution_count": 170,
   "metadata": {},
   "outputs": [],
   "source": [
    "selected_games.to_excel('data_excel/selected_games.xlsx', index=False)"
   ]
  },
  {
   "attachments": {},
   "cell_type": "markdown",
   "metadata": {},
   "source": [
    "# dopasowanie tabeli do wymagań"
   ]
  },
  {
   "cell_type": "code",
   "execution_count": 171,
   "metadata": {},
   "outputs": [],
   "source": [
    "my_games = pd.read_excel('data_excel/selected_games.xlsx')"
   ]
  },
  {
   "cell_type": "code",
   "execution_count": 172,
   "metadata": {},
   "outputs": [
    {
     "data": {
      "text/html": [
       "<div>\n",
       "<style scoped>\n",
       "    .dataframe tbody tr th:only-of-type {\n",
       "        vertical-align: middle;\n",
       "    }\n",
       "\n",
       "    .dataframe tbody tr th {\n",
       "        vertical-align: top;\n",
       "    }\n",
       "\n",
       "    .dataframe thead th {\n",
       "        text-align: right;\n",
       "    }\n",
       "</style>\n",
       "<table border=\"1\" class=\"dataframe\">\n",
       "  <thead>\n",
       "    <tr style=\"text-align: right;\">\n",
       "      <th></th>\n",
       "      <th>ID</th>\n",
       "      <th>Name</th>\n",
       "      <th>Year Published</th>\n",
       "      <th>Min Players</th>\n",
       "      <th>Max Players</th>\n",
       "      <th>Play Time</th>\n",
       "      <th>Min Age</th>\n",
       "      <th>Users Rated</th>\n",
       "      <th>Rating Average</th>\n",
       "      <th>BGG Rank</th>\n",
       "      <th>Complexity Average</th>\n",
       "      <th>Owned Users</th>\n",
       "      <th>Mechanics</th>\n",
       "      <th>Domains</th>\n",
       "    </tr>\n",
       "  </thead>\n",
       "  <tbody>\n",
       "    <tr>\n",
       "      <th>0</th>\n",
       "      <td>256226</td>\n",
       "      <td>Azul: Stained Glass of Sintra</td>\n",
       "      <td>2018</td>\n",
       "      <td>2</td>\n",
       "      <td>4</td>\n",
       "      <td>45</td>\n",
       "      <td>8</td>\n",
       "      <td>8824</td>\n",
       "      <td>7.42437</td>\n",
       "      <td>306</td>\n",
       "      <td>1.9811</td>\n",
       "      <td>13520</td>\n",
       "      <td>Drafting, End Game Bonuses, Modular Board, Pat...</td>\n",
       "      <td>Family Games</td>\n",
       "    </tr>\n",
       "    <tr>\n",
       "      <th>1</th>\n",
       "      <td>131357</td>\n",
       "      <td>Coup</td>\n",
       "      <td>2012</td>\n",
       "      <td>2</td>\n",
       "      <td>6</td>\n",
       "      <td>15</td>\n",
       "      <td>13</td>\n",
       "      <td>36020</td>\n",
       "      <td>7.00517</td>\n",
       "      <td>505</td>\n",
       "      <td>1.4086</td>\n",
       "      <td>59276</td>\n",
       "      <td>Hidden Roles, Memory, Player Elimination, Take...</td>\n",
       "      <td>Party Games</td>\n",
       "    </tr>\n",
       "    <tr>\n",
       "      <th>2</th>\n",
       "      <td>246684</td>\n",
       "      <td>Smartphone Inc.</td>\n",
       "      <td>2018</td>\n",
       "      <td>1</td>\n",
       "      <td>5</td>\n",
       "      <td>90</td>\n",
       "      <td>12</td>\n",
       "      <td>2047</td>\n",
       "      <td>7.75385</td>\n",
       "      <td>625</td>\n",
       "      <td>2.7619</td>\n",
       "      <td>3923</td>\n",
       "      <td>Action Queue, Area Majority / Influence, Layer...</td>\n",
       "      <td>Strategy Games</td>\n",
       "    </tr>\n",
       "    <tr>\n",
       "      <th>3</th>\n",
       "      <td>242684</td>\n",
       "      <td>Reavers of Midgard</td>\n",
       "      <td>2019</td>\n",
       "      <td>2</td>\n",
       "      <td>4</td>\n",
       "      <td>120</td>\n",
       "      <td>14</td>\n",
       "      <td>1687</td>\n",
       "      <td>7.52013</td>\n",
       "      <td>993</td>\n",
       "      <td>2.8769</td>\n",
       "      <td>4089</td>\n",
       "      <td>Card Drafting, Dice Rolling, Follow, Set Colle...</td>\n",
       "      <td>Strategy Games</td>\n",
       "    </tr>\n",
       "    <tr>\n",
       "      <th>4</th>\n",
       "      <td>233678</td>\n",
       "      <td>Indian Summer</td>\n",
       "      <td>2017</td>\n",
       "      <td>1</td>\n",
       "      <td>4</td>\n",
       "      <td>60</td>\n",
       "      <td>10</td>\n",
       "      <td>3021</td>\n",
       "      <td>6.80746</td>\n",
       "      <td>1312</td>\n",
       "      <td>2.1452</td>\n",
       "      <td>5176</td>\n",
       "      <td>Grid Coverage, Pattern Building, Tile Placement</td>\n",
       "      <td>Family Games</td>\n",
       "    </tr>\n",
       "  </tbody>\n",
       "</table>\n",
       "</div>"
      ],
      "text/plain": [
       "       ID                           Name  Year Published  Min Players   \n",
       "0  256226  Azul: Stained Glass of Sintra            2018            2  \\\n",
       "1  131357                           Coup            2012            2   \n",
       "2  246684                Smartphone Inc.            2018            1   \n",
       "3  242684             Reavers of Midgard            2019            2   \n",
       "4  233678                  Indian Summer            2017            1   \n",
       "\n",
       "   Max Players  Play Time  Min Age  Users Rated  Rating Average  BGG Rank   \n",
       "0            4         45        8         8824         7.42437       306  \\\n",
       "1            6         15       13        36020         7.00517       505   \n",
       "2            5         90       12         2047         7.75385       625   \n",
       "3            4        120       14         1687         7.52013       993   \n",
       "4            4         60       10         3021         6.80746      1312   \n",
       "\n",
       "   Complexity Average  Owned Users   \n",
       "0              1.9811        13520  \\\n",
       "1              1.4086        59276   \n",
       "2              2.7619         3923   \n",
       "3              2.8769         4089   \n",
       "4              2.1452         5176   \n",
       "\n",
       "                                           Mechanics         Domains  \n",
       "0  Drafting, End Game Bonuses, Modular Board, Pat...    Family Games  \n",
       "1  Hidden Roles, Memory, Player Elimination, Take...     Party Games  \n",
       "2  Action Queue, Area Majority / Influence, Layer...  Strategy Games  \n",
       "3  Card Drafting, Dice Rolling, Follow, Set Colle...  Strategy Games  \n",
       "4    Grid Coverage, Pattern Building, Tile Placement    Family Games  "
      ]
     },
     "execution_count": 172,
     "metadata": {},
     "output_type": "execute_result"
    }
   ],
   "source": [
    "my_games.head()"
   ]
  },
  {
   "cell_type": "code",
   "execution_count": 173,
   "metadata": {},
   "outputs": [],
   "source": [
    "my_games.ID = np.arange(1, len(my_games) + 1)"
   ]
  },
  {
   "cell_type": "code",
   "execution_count": 174,
   "metadata": {},
   "outputs": [],
   "source": [
    "my_games = my_games[['ID','Name','Min Players','Max Players','Play Time','Min Age','Rating Average','Domains']]"
   ]
  },
  {
   "attachments": {},
   "cell_type": "markdown",
   "metadata": {},
   "source": [
    "### zmiana nazw kolumn"
   ]
  },
  {
   "cell_type": "code",
   "execution_count": 198,
   "metadata": {},
   "outputs": [],
   "source": [
    "my_games = my_games.rename(columns={'ID' : 'game_id', 'Name' : 'name', 'Min Age' : 'PEGI', 'Min Players' : 'min_players', 'Max Players' : 'max_players', 'Domains' : 'category', 'Play Time' : 'duration', 'Rating Average' : 'rating'})\n",
    "my_games = my_games[['game_id','name', 'PEGI', 'min_players', 'max_players', 'category', 'duration', 'rating']]"
   ]
  },
  {
   "cell_type": "code",
   "execution_count": 199,
   "metadata": {},
   "outputs": [],
   "source": [
    "my_games.category = my_games.category.str.split(',').str[0]"
   ]
  },
  {
   "cell_type": "code",
   "execution_count": 201,
   "metadata": {},
   "outputs": [],
   "source": [
    "my_games.to_excel('data_excel/games.xlsx', index=False)"
   ]
  },
  {
   "cell_type": "code",
   "execution_count": null,
   "metadata": {},
   "outputs": [],
   "source": []
  }
 ],
 "metadata": {
  "kernelspec": {
   "display_name": "venv",
   "language": "python",
   "name": "python3"
  },
  "language_info": {
   "codemirror_mode": {
    "name": "ipython",
    "version": 3
   },
   "file_extension": ".py",
   "mimetype": "text/x-python",
   "name": "python",
   "nbconvert_exporter": "python",
   "pygments_lexer": "ipython3",
   "version": "3.9.13"
  },
  "orig_nbformat": 4
 },
 "nbformat": 4,
 "nbformat_minor": 2
}
