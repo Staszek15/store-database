{
 "cells": [
  {
   "cell_type": "code",
   "execution_count": 1,
   "metadata": {},
   "outputs": [],
   "source": [
    "import pandas as pd\n",
    "import numpy as np\n",
    "import datetime"
   ]
  },
  {
   "cell_type": "code",
   "execution_count": 37,
   "metadata": {},
   "outputs": [],
   "source": [
    "n = 10"
   ]
  },
  {
   "cell_type": "code",
   "execution_count": 38,
   "metadata": {},
   "outputs": [],
   "source": [
    "tournaments_dict = {'tournament_id' : [_ for _ in range(n)],\n",
    "                    'name' : ['tournament{}'.format(i) for i in range(n)],\n",
    "                    'date' : ['date{}'.format(i) for i in range(n)],\n",
    "                    'team_players_number' : [np.random.randint(0,10) for i in range(n)],\n",
    "                    'game_id' : [_ for _ in range(n)],\n",
    "                    'staff_id' : [_ for _ in range(n)],\n",
    "                    'total_players_number' : [np.random.randint(0,40) for i in range(n)]\n",
    "}"
   ]
  },
  {
   "cell_type": "code",
   "execution_count": 39,
   "metadata": {},
   "outputs": [],
   "source": [
    "tournaments = pd.DataFrame(tournaments_dict)"
   ]
  },
  {
   "cell_type": "code",
   "execution_count": 41,
   "metadata": {},
   "outputs": [
    {
     "data": {
      "text/html": [
       "<div>\n",
       "<style scoped>\n",
       "    .dataframe tbody tr th:only-of-type {\n",
       "        vertical-align: middle;\n",
       "    }\n",
       "\n",
       "    .dataframe tbody tr th {\n",
       "        vertical-align: top;\n",
       "    }\n",
       "\n",
       "    .dataframe thead th {\n",
       "        text-align: right;\n",
       "    }\n",
       "</style>\n",
       "<table border=\"1\" class=\"dataframe\">\n",
       "  <thead>\n",
       "    <tr style=\"text-align: right;\">\n",
       "      <th></th>\n",
       "      <th>tournament_id</th>\n",
       "      <th>name</th>\n",
       "      <th>date</th>\n",
       "      <th>team_players_number</th>\n",
       "      <th>game_id</th>\n",
       "      <th>staff_id</th>\n",
       "      <th>total_players_number</th>\n",
       "    </tr>\n",
       "  </thead>\n",
       "  <tbody>\n",
       "    <tr>\n",
       "      <th>0</th>\n",
       "      <td>1</td>\n",
       "      <td>Cosmic Entertainment</td>\n",
       "      <td>2021-01-22</td>\n",
       "      <td>1</td>\n",
       "      <td>9</td>\n",
       "      <td>1</td>\n",
       "      <td>12</td>\n",
       "    </tr>\n",
       "    <tr>\n",
       "      <th>1</th>\n",
       "      <td>2</td>\n",
       "      <td>Battlefields of Bonaparte</td>\n",
       "      <td>2021-06-16</td>\n",
       "      <td>1</td>\n",
       "      <td>27</td>\n",
       "      <td>3</td>\n",
       "      <td>30</td>\n",
       "    </tr>\n",
       "    <tr>\n",
       "      <th>2</th>\n",
       "      <td>3</td>\n",
       "      <td>The Kobolds</td>\n",
       "      <td>2021-09-08</td>\n",
       "      <td>2</td>\n",
       "      <td>33</td>\n",
       "      <td>4</td>\n",
       "      <td>32</td>\n",
       "    </tr>\n",
       "    <tr>\n",
       "      <th>3</th>\n",
       "      <td>4</td>\n",
       "      <td>Gaming Evening</td>\n",
       "      <td>2021-12-20</td>\n",
       "      <td>1</td>\n",
       "      <td>33</td>\n",
       "      <td>2</td>\n",
       "      <td>32</td>\n",
       "    </tr>\n",
       "    <tr>\n",
       "      <th>4</th>\n",
       "      <td>5</td>\n",
       "      <td>Hamst&amp;Furious</td>\n",
       "      <td>2022-01-04</td>\n",
       "      <td>1</td>\n",
       "      <td>7</td>\n",
       "      <td>2</td>\n",
       "      <td>37</td>\n",
       "    </tr>\n",
       "    <tr>\n",
       "      <th>5</th>\n",
       "      <td>6</td>\n",
       "      <td>Indian Camp</td>\n",
       "      <td>2022-07-28</td>\n",
       "      <td>1</td>\n",
       "      <td>5</td>\n",
       "      <td>3</td>\n",
       "      <td>40</td>\n",
       "    </tr>\n",
       "    <tr>\n",
       "      <th>6</th>\n",
       "      <td>7</td>\n",
       "      <td>Vietgame</td>\n",
       "      <td>2022-10-02</td>\n",
       "      <td>1</td>\n",
       "      <td>36</td>\n",
       "      <td>1</td>\n",
       "      <td>16</td>\n",
       "    </tr>\n",
       "    <tr>\n",
       "      <th>7</th>\n",
       "      <td>8</td>\n",
       "      <td>Thematic Contest</td>\n",
       "      <td>2023-01-19</td>\n",
       "      <td>2</td>\n",
       "      <td>6</td>\n",
       "      <td>4</td>\n",
       "      <td>36</td>\n",
       "    </tr>\n",
       "    <tr>\n",
       "      <th>8</th>\n",
       "      <td>9</td>\n",
       "      <td>Spring Tournament</td>\n",
       "      <td>2023-03-25</td>\n",
       "      <td>1</td>\n",
       "      <td>1</td>\n",
       "      <td>1</td>\n",
       "      <td>30</td>\n",
       "    </tr>\n",
       "    <tr>\n",
       "      <th>9</th>\n",
       "      <td>10</td>\n",
       "      <td>Star Trek Day</td>\n",
       "      <td>2023-06-07</td>\n",
       "      <td>1</td>\n",
       "      <td>19</td>\n",
       "      <td>2</td>\n",
       "      <td>8</td>\n",
       "    </tr>\n",
       "  </tbody>\n",
       "</table>\n",
       "</div>"
      ],
      "text/plain": [
       "   tournament_id                       name        date  team_players_number   \n",
       "0              1       Cosmic Entertainment  2021-01-22                    1  \\\n",
       "1              2  Battlefields of Bonaparte  2021-06-16                    1   \n",
       "2              3                The Kobolds  2021-09-08                    2   \n",
       "3              4             Gaming Evening  2021-12-20                    1   \n",
       "4              5              Hamst&Furious  2022-01-04                    1   \n",
       "5              6                Indian Camp  2022-07-28                    1   \n",
       "6              7                   Vietgame  2022-10-02                    1   \n",
       "7              8           Thematic Contest  2023-01-19                    2   \n",
       "8              9          Spring Tournament  2023-03-25                    1   \n",
       "9             10              Star Trek Day  2023-06-07                    1   \n",
       "\n",
       "   game_id  staff_id  total_players_number  \n",
       "0        9         1                    12  \n",
       "1       27         3                    30  \n",
       "2       33         4                    32  \n",
       "3       33         2                    32  \n",
       "4        7         2                    37  \n",
       "5        5         3                    40  \n",
       "6       36         1                    16  \n",
       "7        6         4                    36  \n",
       "8        1         1                    30  \n",
       "9       19         2                     8  "
      ]
     },
     "execution_count": 41,
     "metadata": {},
     "output_type": "execute_result"
    }
   ],
   "source": [
    "tournaments.iloc[0] = [1, 'Cosmic Entertainment', datetime.date(2021,1,22), 1, 9, 1, 12]\n",
    "tournaments.iloc[1] = [2, 'Battlefields of Bonaparte', datetime.date(2021,6,16), 1, 27, 3, 30]\n",
    "tournaments.iloc[2] = [3, 'The Kobolds', datetime.date(2021,9,8), 2, 33, 4, 32]\n",
    "tournaments.iloc[3] = [4, 'Gaming Evening', datetime.date(2021,12,20), 1, 33, 2, 32]\n",
    "tournaments.iloc[4] = [5, 'Hamst&Furious', datetime.date(2022,1,4), 1, 7,2,37]\n",
    "tournaments.iloc[5] = [6, 'Indian Camp', datetime.date(2022,7,28), 1, 5,3,40]\n",
    "tournaments.iloc[6] = [7, 'Vietgame', datetime.date(2022,10,2), 1, 36,1,16] ## niedziela\n",
    "tournaments.iloc[7] = [8, 'Thematic Contest', datetime.date(2023,1,19), 2, 6,4,36]\n",
    "tournaments.iloc[8] = [9, 'Spring Tournament', datetime.date(2023,3,25), 1, 1,1,30]\n",
    "tournaments.iloc[9] = [10, 'Star Trek Day', datetime.date(2023,6,7), 1, 19,2,8]\n",
    "tournaments"
   ]
  },
  {
   "cell_type": "code",
   "execution_count": 8,
   "metadata": {},
   "outputs": [],
   "source": [
    "inventory_table = pd.read_csv('inventory_rent.csv')"
   ]
  },
  {
   "cell_type": "code",
   "execution_count": 12,
   "metadata": {},
   "outputs": [],
   "source": [
    "def games_for_tournament(id_value):\n",
    "    \"\"\"\n",
    "    Function that returns a number of pieces that can be used in tournament. \n",
    "    Always left one piece for rental.\n",
    "    param value: id of the game\n",
    "    \"\"\"\n",
    "    return((inventory_table.game_id == id_value).sum() - 1) "
   ]
  },
  {
   "cell_type": "code",
   "execution_count": 35,
   "metadata": {},
   "outputs": [
    {
     "data": {
      "text/plain": [
       "3"
      ]
     },
     "execution_count": 35,
     "metadata": {},
     "output_type": "execute_result"
    }
   ],
   "source": [
    "games_for_tournament(9)"
   ]
  },
  {
   "cell_type": "code",
   "execution_count": 41,
   "metadata": {},
   "outputs": [
    {
     "data": {
      "text/plain": [
       "game_id\n",
       "13    69\n",
       "22    45\n",
       "32    32\n",
       "39    24\n",
       "1     23\n",
       "4     22\n",
       "7     21\n",
       "10    20\n",
       "29    20\n",
       "19    19\n",
       "35    17\n",
       "27    16\n",
       "36    15\n",
       "5     12\n",
       "33    11\n",
       "44    10\n",
       "6     10\n",
       "24     9\n",
       "42     8\n",
       "37     8\n",
       "38     7\n",
       "40     7\n",
       "25     6\n",
       "3      6\n",
       "21     5\n",
       "2      5\n",
       "11     5\n",
       "26     5\n",
       "46     5\n",
       "34     4\n",
       "9      4\n",
       "28     4\n",
       "47     3\n",
       "31     3\n",
       "30     3\n",
       "17     3\n",
       "50     2\n",
       "41     2\n",
       "45     1\n",
       "18     1\n",
       "43     1\n",
       "48     1\n",
       "23     1\n",
       "14     1\n",
       "16     1\n",
       "15     1\n",
       "8      1\n",
       "20     1\n",
       "Name: count, dtype: int64"
      ]
     },
     "execution_count": 41,
     "metadata": {},
     "output_type": "execute_result"
    }
   ],
   "source": [
    "inventory_table.game_id.value_counts()"
   ]
  },
  {
   "cell_type": "code",
   "execution_count": 43,
   "metadata": {},
   "outputs": [],
   "source": [
    "tournaments.to_csv('tournaments.csv', index = False)"
   ]
  },
  {
   "cell_type": "code",
   "execution_count": null,
   "metadata": {},
   "outputs": [],
   "source": []
  }
 ],
 "metadata": {
  "kernelspec": {
   "display_name": "base",
   "language": "python",
   "name": "python3"
  },
  "language_info": {
   "codemirror_mode": {
    "name": "ipython",
    "version": 3
   },
   "file_extension": ".py",
   "mimetype": "text/x-python",
   "name": "python",
   "nbconvert_exporter": "python",
   "pygments_lexer": "ipython3",
   "version": "3.9.13"
  },
  "orig_nbformat": 4
 },
 "nbformat": 4,
 "nbformat_minor": 2
}
