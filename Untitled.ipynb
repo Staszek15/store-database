{
 "cells": [
  {
   "cell_type": "code",
   "execution_count": 1,
   "id": "62e0976e",
   "metadata": {},
   "outputs": [],
   "source": [
    "\n",
    "import numpy as np\n",
    "from sqlalchemy import create_engine, inspect, URL, text\n",
    "import pandas as pd\n",
    "import pymysql\n",
    "from tabulate import tabulate\n",
    "import matplotlib.pyplot as plt\n",
    "import seaborn as sns\n",
    "\n",
    "url_object = URL.create(\n",
    "  \"mysql+pymysql\",\n",
    "  username = \"team21\",\n",
    "  password = \"te@mzi\",\n",
    "  host = \"giniewicz.it\",\n",
    "  database = \"team21\"\n",
    ")\n",
    "\n",
    "engine = create_engine(url_object)\n",
    "connection = engine.connect()"
   ]
  },
  {
   "cell_type": "code",
   "execution_count": 27,
   "id": "d803db96",
   "metadata": {},
   "outputs": [],
   "source": [
    "rent_price = connection.execute(text('''WITH inv_ids AS (\n",
    "  SELECT \n",
    "    CASE WHEN inventory_id IN (SELECT inventory_id \n",
    "    FROM inventory_rent\n",
    "    WHERE price > (SELECT ROUND(AVG(price),2)\n",
    "    FROM inventory_rent)) THEN 'droższe'\n",
    "     WHEN inventory_id IN (SELECT inventory_id \n",
    "  FROM inventory_rent\n",
    "  WHERE price <= (SELECT ROUND(AVG(price),2)\n",
    "  FROM inventory_rent)) THEN 'tańsze'\n",
    "  END AS if_cheaper\n",
    "  FROM rentals\n",
    ")\n",
    "\n",
    "SELECT if_cheaper, COUNT(*) AS rent_num\n",
    "FROM inv_ids\n",
    "GROUP BY if_cheaper'''))\n",
    "\n",
    "rent_pr = pd.DataFrame(rent_price.fetchall(), columns=rent_price.keys())\n",
    "drozsze = rent_pr[rent_pr['if_cheaper'] == 'droższe']['rent_num'][0]\n",
    "tansze = int(rent_pr[rent_pr['if_cheaper'] == 'tańsze']['rent_num'][1])"
   ]
  },
  {
   "cell_type": "code",
   "execution_count": 23,
   "id": "6e75d0d9",
   "metadata": {},
   "outputs": [],
   "source": [
    "avg_price = connection.execute(text('''SELECT ROUND(AVG(price),2) AS avg_price\n",
    "    FROM inventory_rent'''))\n",
    "avg_pr = pd.DataFrame(avg_price.fetchall(), columns=avg_price.keys())['avg_price'][0]"
   ]
  },
  {
   "cell_type": "code",
   "execution_count": 28,
   "id": "bddc3bec",
   "metadata": {},
   "outputs": [
    {
     "data": {
      "text/plain": [
       "13195"
      ]
     },
     "execution_count": 28,
     "metadata": {},
     "output_type": "execute_result"
    }
   ],
   "source": [
    "tansze"
   ]
  },
  {
   "cell_type": "code",
   "execution_count": 22,
   "id": "bc36b94e",
   "metadata": {},
   "outputs": [
    {
     "data": {
      "text/plain": [
       "13.73"
      ]
     },
     "execution_count": 22,
     "metadata": {},
     "output_type": "execute_result"
    }
   ],
   "source": [
    "avg_pr['avg_price'][0]"
   ]
  },
  {
   "cell_type": "code",
   "execution_count": 29,
   "id": "c1a6251f",
   "metadata": {},
   "outputs": [],
   "source": [
    "rent= connection.execute(text('''SELECT DATE_FORMAT(rental_date, '%Y-%m') AS m, ROUND(SUM(r.price + r.fine),2) AS rental_income\n",
    "FROM rentals AS r\n",
    "GROUP BY m\n",
    "ORDER BY m DESC\n",
    "LIMIT 6'''))\n",
    "\n",
    "purch = connection.execute(text('''SELECT DATE_FORMAT(p.date, '%Y-%m') AS m, ROUND(SUM(i.price),2) AS buy_income\n",
    "FROM purchases AS p\n",
    "LEFT JOIN inventory_buy AS i USING(inventory_id)\n",
    "GROUP BY m\n",
    "ORDER BY m DESC\n",
    "LIMIT 6'''))\n",
    "\n",
    "first_df = pd.DataFrame(rent.fetchall(), columns=rent.keys())\n",
    "sec_df = pd.DataFrame(purch.fetchall(), columns=purch.keys())"
   ]
  },
  {
   "cell_type": "code",
   "execution_count": 33,
   "id": "042b119b",
   "metadata": {},
   "outputs": [
    {
     "data": {
      "text/plain": [
       "0    39757.00\n",
       "1    78036.00\n",
       "2    58886.60\n",
       "3    44323.74\n",
       "4    35794.99\n",
       "5    33136.14\n",
       "Name: buy_income, dtype: float64"
      ]
     },
     "execution_count": 33,
     "metadata": {},
     "output_type": "execute_result"
    }
   ],
   "source": [
    "sec_df['buy_income']"
   ]
  },
  {
   "cell_type": "code",
   "execution_count": 35,
   "id": "b92249d8",
   "metadata": {},
   "outputs": [
    {
     "data": {
      "text/html": [
       "<div>\n",
       "<style scoped>\n",
       "    .dataframe tbody tr th:only-of-type {\n",
       "        vertical-align: middle;\n",
       "    }\n",
       "\n",
       "    .dataframe tbody tr th {\n",
       "        vertical-align: top;\n",
       "    }\n",
       "\n",
       "    .dataframe thead th {\n",
       "        text-align: right;\n",
       "    }\n",
       "</style>\n",
       "<table border=\"1\" class=\"dataframe\">\n",
       "  <thead>\n",
       "    <tr style=\"text-align: right;\">\n",
       "      <th></th>\n",
       "      <th>m</th>\n",
       "      <th>rental_income</th>\n",
       "      <th>buy_income</th>\n",
       "    </tr>\n",
       "  </thead>\n",
       "  <tbody>\n",
       "    <tr>\n",
       "      <th>0</th>\n",
       "      <td>2023-06</td>\n",
       "      <td>3378.43</td>\n",
       "      <td>39757.00</td>\n",
       "    </tr>\n",
       "    <tr>\n",
       "      <th>1</th>\n",
       "      <td>2023-05</td>\n",
       "      <td>10780.46</td>\n",
       "      <td>78036.00</td>\n",
       "    </tr>\n",
       "    <tr>\n",
       "      <th>2</th>\n",
       "      <td>2023-04</td>\n",
       "      <td>11219.04</td>\n",
       "      <td>58886.60</td>\n",
       "    </tr>\n",
       "    <tr>\n",
       "      <th>3</th>\n",
       "      <td>2023-03</td>\n",
       "      <td>11384.65</td>\n",
       "      <td>44323.74</td>\n",
       "    </tr>\n",
       "    <tr>\n",
       "      <th>4</th>\n",
       "      <td>2023-02</td>\n",
       "      <td>10784.60</td>\n",
       "      <td>35794.99</td>\n",
       "    </tr>\n",
       "    <tr>\n",
       "      <th>5</th>\n",
       "      <td>2023-01</td>\n",
       "      <td>11538.25</td>\n",
       "      <td>33136.14</td>\n",
       "    </tr>\n",
       "  </tbody>\n",
       "</table>\n",
       "</div>"
      ],
      "text/plain": [
       "         m  rental_income  buy_income\n",
       "0  2023-06        3378.43    39757.00\n",
       "1  2023-05       10780.46    78036.00\n",
       "2  2023-04       11219.04    58886.60\n",
       "3  2023-03       11384.65    44323.74\n",
       "4  2023-02       10784.60    35794.99\n",
       "5  2023-01       11538.25    33136.14"
      ]
     },
     "execution_count": 35,
     "metadata": {},
     "output_type": "execute_result"
    }
   ],
   "source": [
    "all_df = first_df\n",
    "all_df['buy_income'] = sec_df['buy_income']\n",
    "all_df"
   ]
  },
  {
   "cell_type": "code",
   "execution_count": 42,
   "id": "44863a24",
   "metadata": {},
   "outputs": [
    {
     "data": {
      "text/plain": [
       "Text(0, 0.5, 'Revenue')"
      ]
     },
     "execution_count": 42,
     "metadata": {},
     "output_type": "execute_result"
    },
    {
     "data": {
      "image/png": "[encoded data removed]",
      "text/plain": [
       "<Figure size 432x288 with 1 Axes>"
      ]
     },
     "metadata": {},
     "output_type": "display_data"
    }
   ],
   "source": [
    "sns.set()\n",
    "ax = all_df.plot.bar(x='m',color=[\"SkyBlue\",\"IndianRed\"], rot=0, title=\"\")\n",
    "ax.set_xlabel(\"Date\")\n",
    "ax.set_ylabel(\"Revenue\")"
   ]
  },
  {
   "cell_type": "code",
   "execution_count": 43,
   "id": "14a0d81e",
   "metadata": {},
   "outputs": [],
   "source": [
    "age_rent = connection.execute(text('''select \n",
    "    CASE \n",
    "        WHEN (2023-YEAR(c.birthdate)) <= 30 THEN '30 lub mniej' \n",
    "        WHEN (2023-YEAR(c.birthdate)) > 30 and (2023-YEAR(c.birthdate)) <= 45 THEN 'od 31 do 45' \n",
    "        WHEN (2023-YEAR(c.birthdate)) > 45 and (2023-YEAR(c.birthdate)) <= 60 THEN 'od 46 do 60' \n",
    "        ELSE 'powyżej 60' END AS years,\n",
    "    count(r.rental_id) AS rentals_number\n",
    "from rentals AS r\n",
    "INNER JOIN customers AS c ON c.customer_id=r.customer_id\n",
    "group by \n",
    "    CASE \n",
    "        WHEN (2023-YEAR(c.birthdate)) <= 30 THEN '30 lub mniej' \n",
    "        WHEN (2023-YEAR(c.birthdate)) >  30 and (2023-YEAR(c.birthdate)) <= 45 THEN 'od 31 do 45' \n",
    "        WHEN (2023-YEAR(c.birthdate)) >  45 and (2023-YEAR(c.birthdate)) <= 60 THEN 'od 46 do 60' \n",
    "        ELSE 'powyżej 60' END'''))\n",
    "        \n",
    "age_rent_df = pd.DataFrame(age_rent.fetchall(), columns=age_rent.keys())"
   ]
  },
  {
   "cell_type": "code",
   "execution_count": 44,
   "id": "59176f76",
   "metadata": {},
   "outputs": [
    {
     "data": {
      "text/html": [
       "<div>\n",
       "<style scoped>\n",
       "    .dataframe tbody tr th:only-of-type {\n",
       "        vertical-align: middle;\n",
       "    }\n",
       "\n",
       "    .dataframe tbody tr th {\n",
       "        vertical-align: top;\n",
       "    }\n",
       "\n",
       "    .dataframe thead th {\n",
       "        text-align: right;\n",
       "    }\n",
       "</style>\n",
       "<table border=\"1\" class=\"dataframe\">\n",
       "  <thead>\n",
       "    <tr style=\"text-align: right;\">\n",
       "      <th></th>\n",
       "      <th>years</th>\n",
       "      <th>rentals_number</th>\n",
       "    </tr>\n",
       "  </thead>\n",
       "  <tbody>\n",
       "    <tr>\n",
       "      <th>0</th>\n",
       "      <td>30 lub mniej</td>\n",
       "      <td>5626</td>\n",
       "    </tr>\n",
       "    <tr>\n",
       "      <th>1</th>\n",
       "      <td>od 31 do 45</td>\n",
       "      <td>4354</td>\n",
       "    </tr>\n",
       "    <tr>\n",
       "      <th>2</th>\n",
       "      <td>od 46 do 60</td>\n",
       "      <td>4701</td>\n",
       "    </tr>\n",
       "    <tr>\n",
       "      <th>3</th>\n",
       "      <td>powyżej 60</td>\n",
       "      <td>5797</td>\n",
       "    </tr>\n",
       "  </tbody>\n",
       "</table>\n",
       "</div>"
      ],
      "text/plain": [
       "          years  rentals_number\n",
       "0  30 lub mniej            5626\n",
       "1   od 31 do 45            4354\n",
       "2   od 46 do 60            4701\n",
       "3    powyżej 60            5797"
      ]
     },
     "execution_count": 44,
     "metadata": {},
     "output_type": "execute_result"
    }
   ],
   "source": [
    "age_rent_df"
   ]
  },
  {
   "cell_type": "code",
   "execution_count": 45,
   "id": "c372aa50",
   "metadata": {},
   "outputs": [],
   "source": [
    "latex_table = tabulate(age_rent_df, headers='keys', tablefmt='latex')\n",
    "caption = 'Liczba wypożyczeń względem grupy wiekowej.'\n",
    "label = 'tab:age_rent'\n",
    "latex_table_with_caption_and_label = f\"\\\\begin{{table}}[h]\\n\\\\centering\\n\\\\caption{{{caption}}}\\\\label{{{label}}}\\n{latex_table}\\\\end{{table}}\""
   ]
  },
  {
   "cell_type": "code",
   "execution_count": 71,
   "id": "4e284752",
   "metadata": {},
   "outputs": [],
   "source": [
    "query2 = connection.execute(text('''SELECT g.name AS game, CONCAT(c.first_name, ' ', c.last_name) AS player, score\n",
    "FROM (\n",
    "  SELECT t.game_id, customer_id, SUM(score) AS score,\n",
    "        ROW_NUMBER() OVER (PARTITION BY game_id ORDER BY SUM(score) DESC) AS row_num\n",
    "        FROM tournament_results AS results\n",
    "        LEFT JOIN tournament AS t USING(tournament_id)\n",
    "        GROUP BY game_id, customer_id\n",
    ") AS subquery\n",
    "LEFT JOIN customers AS c USING(customer_id)\n",
    "LEFT JOIN games AS g USING(game_id)\n",
    "WHERE row_num IN (1,2,3,4,5,6,7,8,9,10) \n",
    "AND game_id IN (\n",
    "    SELECT game_id FROM (\n",
    "      SELECT DISTINCT game_id FROM tournament ORDER BY RAND() LIMIT 3\n",
    "    ) AS random_games\n",
    "  )\n",
    "ORDER BY game_id, score DESC'''))\n",
    "df2 = pd.DataFrame(query2.fetchall(), columns = query2.keys())\n",
    "#print(df2)\n",
    "game1 = df2['game'][0] \n",
    "game2 = df2['game'][10]\n",
    "game3 = df2['game'][20]"
   ]
  },
  {
   "cell_type": "code",
   "execution_count": 46,
   "id": "985d887b",
   "metadata": {},
   "outputs": [
    {
     "data": {
      "text/plain": [
       "'\\\\begin{table}[h]\\n\\\\centering\\n\\\\caption{Liczba wypożyczeń względem grupy wiekowej.}\\\\label{tab:age_rent}\\n\\\\begin{tabular}{rlr}\\n\\\\hline\\n    & years        &   rentals\\\\_number \\\\\\\\\\n\\\\hline\\n  0 & 30 lub mniej &             5626 \\\\\\\\\\n  1 & od 31 do 45  &             4354 \\\\\\\\\\n  2 & od 46 do 60  &             4701 \\\\\\\\\\n  3 & powyżej 60   &             5797 \\\\\\\\\\n\\\\hline\\n\\\\end{tabular}\\\\end{table}'"
      ]
     },
     "execution_count": 46,
     "metadata": {},
     "output_type": "execute_result"
    }
   ],
   "source": [
    "latex_table_with_caption_and_label"
   ]
  },
  {
   "cell_type": "code",
   "execution_count": 81,
   "id": "7eddd4f8",
   "metadata": {},
   "outputs": [],
   "source": [
    "registr_month = connection.execute(text('''SELECT \n",
    "  DATE_FORMAT(registration_date,'%Y-%m') AS registration_month, \n",
    "  COUNT(*) AS num_of_registrations\n",
    "FROM customers\n",
    "GROUP BY registration_month'''))\n",
    "\n",
    "reg_month = pd.DataFrame(registr_month.fetchall(), columns=registr_month.keys())"
   ]
  },
  {
   "cell_type": "code",
   "execution_count": 82,
   "id": "d9ca5f44",
   "metadata": {},
   "outputs": [
    {
     "data": {
      "text/html": [
       "<div>\n",
       "<style scoped>\n",
       "    .dataframe tbody tr th:only-of-type {\n",
       "        vertical-align: middle;\n",
       "    }\n",
       "\n",
       "    .dataframe tbody tr th {\n",
       "        vertical-align: top;\n",
       "    }\n",
       "\n",
       "    .dataframe thead th {\n",
       "        text-align: right;\n",
       "    }\n",
       "</style>\n",
       "<table border=\"1\" class=\"dataframe\">\n",
       "  <thead>\n",
       "    <tr style=\"text-align: right;\">\n",
       "      <th></th>\n",
       "      <th>registration_month</th>\n",
       "      <th>num_of_registrations</th>\n",
       "    </tr>\n",
       "  </thead>\n",
       "  <tbody>\n",
       "    <tr>\n",
       "      <th>0</th>\n",
       "      <td>2021-01</td>\n",
       "      <td>67</td>\n",
       "    </tr>\n",
       "    <tr>\n",
       "      <th>1</th>\n",
       "      <td>2021-02</td>\n",
       "      <td>31</td>\n",
       "    </tr>\n",
       "    <tr>\n",
       "      <th>2</th>\n",
       "      <td>2021-03</td>\n",
       "      <td>37</td>\n",
       "    </tr>\n",
       "    <tr>\n",
       "      <th>3</th>\n",
       "      <td>2021-04</td>\n",
       "      <td>38</td>\n",
       "    </tr>\n",
       "    <tr>\n",
       "      <th>4</th>\n",
       "      <td>2021-05</td>\n",
       "      <td>36</td>\n",
       "    </tr>\n",
       "    <tr>\n",
       "      <th>5</th>\n",
       "      <td>2021-06</td>\n",
       "      <td>38</td>\n",
       "    </tr>\n",
       "    <tr>\n",
       "      <th>6</th>\n",
       "      <td>2021-07</td>\n",
       "      <td>29</td>\n",
       "    </tr>\n",
       "    <tr>\n",
       "      <th>7</th>\n",
       "      <td>2021-08</td>\n",
       "      <td>23</td>\n",
       "    </tr>\n",
       "    <tr>\n",
       "      <th>8</th>\n",
       "      <td>2021-09</td>\n",
       "      <td>34</td>\n",
       "    </tr>\n",
       "    <tr>\n",
       "      <th>9</th>\n",
       "      <td>2021-10</td>\n",
       "      <td>27</td>\n",
       "    </tr>\n",
       "    <tr>\n",
       "      <th>10</th>\n",
       "      <td>2021-11</td>\n",
       "      <td>30</td>\n",
       "    </tr>\n",
       "    <tr>\n",
       "      <th>11</th>\n",
       "      <td>2021-12</td>\n",
       "      <td>23</td>\n",
       "    </tr>\n",
       "    <tr>\n",
       "      <th>12</th>\n",
       "      <td>2022-01</td>\n",
       "      <td>26</td>\n",
       "    </tr>\n",
       "    <tr>\n",
       "      <th>13</th>\n",
       "      <td>2022-02</td>\n",
       "      <td>21</td>\n",
       "    </tr>\n",
       "    <tr>\n",
       "      <th>14</th>\n",
       "      <td>2022-03</td>\n",
       "      <td>12</td>\n",
       "    </tr>\n",
       "    <tr>\n",
       "      <th>15</th>\n",
       "      <td>2022-04</td>\n",
       "      <td>16</td>\n",
       "    </tr>\n",
       "    <tr>\n",
       "      <th>16</th>\n",
       "      <td>2022-05</td>\n",
       "      <td>20</td>\n",
       "    </tr>\n",
       "    <tr>\n",
       "      <th>17</th>\n",
       "      <td>2022-06</td>\n",
       "      <td>16</td>\n",
       "    </tr>\n",
       "    <tr>\n",
       "      <th>18</th>\n",
       "      <td>2022-07</td>\n",
       "      <td>16</td>\n",
       "    </tr>\n",
       "    <tr>\n",
       "      <th>19</th>\n",
       "      <td>2022-08</td>\n",
       "      <td>15</td>\n",
       "    </tr>\n",
       "    <tr>\n",
       "      <th>20</th>\n",
       "      <td>2022-09</td>\n",
       "      <td>14</td>\n",
       "    </tr>\n",
       "    <tr>\n",
       "      <th>21</th>\n",
       "      <td>2022-10</td>\n",
       "      <td>10</td>\n",
       "    </tr>\n",
       "    <tr>\n",
       "      <th>22</th>\n",
       "      <td>2022-11</td>\n",
       "      <td>4</td>\n",
       "    </tr>\n",
       "    <tr>\n",
       "      <th>23</th>\n",
       "      <td>2022-12</td>\n",
       "      <td>5</td>\n",
       "    </tr>\n",
       "    <tr>\n",
       "      <th>24</th>\n",
       "      <td>2023-01</td>\n",
       "      <td>6</td>\n",
       "    </tr>\n",
       "    <tr>\n",
       "      <th>25</th>\n",
       "      <td>2023-02</td>\n",
       "      <td>3</td>\n",
       "    </tr>\n",
       "    <tr>\n",
       "      <th>26</th>\n",
       "      <td>2023-03</td>\n",
       "      <td>3</td>\n",
       "    </tr>\n",
       "  </tbody>\n",
       "</table>\n",
       "</div>"
      ],
      "text/plain": [
       "   registration_month  num_of_registrations\n",
       "0             2021-01                    67\n",
       "1             2021-02                    31\n",
       "2             2021-03                    37\n",
       "3             2021-04                    38\n",
       "4             2021-05                    36\n",
       "5             2021-06                    38\n",
       "6             2021-07                    29\n",
       "7             2021-08                    23\n",
       "8             2021-09                    34\n",
       "9             2021-10                    27\n",
       "10            2021-11                    30\n",
       "11            2021-12                    23\n",
       "12            2022-01                    26\n",
       "13            2022-02                    21\n",
       "14            2022-03                    12\n",
       "15            2022-04                    16\n",
       "16            2022-05                    20\n",
       "17            2022-06                    16\n",
       "18            2022-07                    16\n",
       "19            2022-08                    15\n",
       "20            2022-09                    14\n",
       "21            2022-10                    10\n",
       "22            2022-11                     4\n",
       "23            2022-12                     5\n",
       "24            2023-01                     6\n",
       "25            2023-02                     3\n",
       "26            2023-03                     3"
      ]
     },
     "execution_count": 82,
     "metadata": {},
     "output_type": "execute_result"
    }
   ],
   "source": [
    "reg_month"
   ]
  },
  {
   "cell_type": "code",
   "execution_count": 86,
   "id": "97580fb2",
   "metadata": {},
   "outputs": [
    {
     "ename": "SyntaxError",
     "evalue": "positional argument follows keyword argument (<ipython-input-86-5902bf1660be>, line 1)",
     "output_type": "error",
     "traceback": [
      "\u001b[1;36m  File \u001b[1;32m\"<ipython-input-86-5902bf1660be>\"\u001b[1;36m, line \u001b[1;32m1\u001b[0m\n\u001b[1;33m    plt.hist(data=reg_moth, x=reg_month['num_of_registrations'], reg_month['num_of_registrations'])\u001b[0m\n\u001b[1;37m                                                                 ^\u001b[0m\n\u001b[1;31mSyntaxError\u001b[0m\u001b[1;31m:\u001b[0m positional argument follows keyword argument\n"
     ]
    }
   ],
   "source": [
    "plt.hist(data=reg_moth, x=reg_month['num_of_registrations'], reg_month['num_of_registrations'])"
   ]
  },
  {
   "cell_type": "code",
   "execution_count": 72,
   "id": "5d58ce5a",
   "metadata": {},
   "outputs": [],
   "source": [
    "df2_game1 = df2[df2['game']==game1][['player', 'score']]\n",
    "df2_game2 = df2[df2['game']==game2][['player', 'score']]\n",
    "df2_game3 = df2[df2['game']==game3][['player', 'score']]"
   ]
  },
  {
   "cell_type": "code",
   "execution_count": 96,
   "id": "514a9202",
   "metadata": {},
   "outputs": [
    {
     "data": {
      "image/png": "[encoded data removed]",
      "text/plain": [
       "<Figure size 432x288 with 1 Axes>"
      ]
     },
     "metadata": {
      "needs_background": "light"
     },
     "output_type": "display_data"
    }
   ],
   "source": [
    "sns.histplot(data=reg_month, x=reg_month['registration_month'],y=reg_month['num_of_registrations'], kde=True, bins=50)\n",
    "plt.show()"
   ]
  },
  {
   "cell_type": "code",
   "execution_count": 100,
   "id": "dd75cd3e",
   "metadata": {},
   "outputs": [
    {
     "data": {
      "image/png": "[encoded data removed]",
      "text/plain": [
       "<Figure size 432x288 with 1 Axes>"
      ]
     },
     "metadata": {},
     "output_type": "display_data"
    }
   ],
   "source": [
    "sns.set()\n",
    "ax = sns.barplot(x='registration_month', y='num_of_registrations', data=reg_month, color='steelblue')\n",
    "plt.xticks(rotation=45)\n",
    "plt.ylabel(\"Liczba rejestracji w sklepie\")\n",
    "plt.xlabel(\"Data\")\n",
    "plt.show()"
   ]
  },
  {
   "cell_type": "code",
   "execution_count": 102,
   "id": "04e61b4d",
   "metadata": {},
   "outputs": [
    {
     "data": {
      "image/png": "[encoded data removed]",
      "text/plain": [
       "<Figure size 432x288 with 1 Axes>"
      ]
     },
     "metadata": {},
     "output_type": "display_data"
    }
   ],
   "source": [
    "registr_month = connection.execute(text('''SELECT \n",
    "  DATE_FORMAT(registration_date,'%Y-%m') AS registration_month, \n",
    "  COUNT(*) AS num_of_registrations\n",
    "FROM customers\n",
    "GROUP BY registration_month'''))\n",
    "\n",
    "reg_month = pd.DataFrame(registr_month.fetchall(), columns=registr_month.keys())\n",
    "ax = sns.barplot(x='registration_month', y='num_of_registrations', data=reg_month, color='steelblue')\n",
    "plt.xticks(rotation=45)\n",
    "plt.ylabel(\"Liczba rejestracji w sklepie\")\n",
    "plt.xlabel(\"Data\")\n",
    "plt.show()"
   ]
  },
  {
   "cell_type": "code",
   "execution_count": 73,
   "id": "9ecee3e2",
   "metadata": {},
   "outputs": [
    {
     "data": {
      "text/html": [
       "<div>\n",
       "<style scoped>\n",
       "    .dataframe tbody tr th:only-of-type {\n",
       "        vertical-align: middle;\n",
       "    }\n",
       "\n",
       "    .dataframe tbody tr th {\n",
       "        vertical-align: top;\n",
       "    }\n",
       "\n",
       "    .dataframe thead th {\n",
       "        text-align: right;\n",
       "    }\n",
       "</style>\n",
       "<table border=\"1\" class=\"dataframe\">\n",
       "  <thead>\n",
       "    <tr style=\"text-align: right;\">\n",
       "      <th></th>\n",
       "      <th>player</th>\n",
       "      <th>score</th>\n",
       "    </tr>\n",
       "  </thead>\n",
       "  <tbody>\n",
       "    <tr>\n",
       "      <th>0</th>\n",
       "      <td>Fabian Brózda</td>\n",
       "      <td>83</td>\n",
       "    </tr>\n",
       "    <tr>\n",
       "      <th>1</th>\n",
       "      <td>Agnieszka Kopyto</td>\n",
       "      <td>53</td>\n",
       "    </tr>\n",
       "    <tr>\n",
       "      <th>2</th>\n",
       "      <td>Stanisław Mesjasz</td>\n",
       "      <td>52</td>\n",
       "    </tr>\n",
       "    <tr>\n",
       "      <th>3</th>\n",
       "      <td>Трохим Скирда</td>\n",
       "      <td>50</td>\n",
       "    </tr>\n",
       "    <tr>\n",
       "      <th>4</th>\n",
       "      <td>Šárka Fialová</td>\n",
       "      <td>49</td>\n",
       "    </tr>\n",
       "    <tr>\n",
       "      <th>5</th>\n",
       "      <td>Justus Schwital</td>\n",
       "      <td>48</td>\n",
       "    </tr>\n",
       "    <tr>\n",
       "      <th>6</th>\n",
       "      <td>Kornel Gabryel</td>\n",
       "      <td>47</td>\n",
       "    </tr>\n",
       "    <tr>\n",
       "      <th>7</th>\n",
       "      <td>Luboš Kučera</td>\n",
       "      <td>47</td>\n",
       "    </tr>\n",
       "    <tr>\n",
       "      <th>8</th>\n",
       "      <td>Liwia Blaut</td>\n",
       "      <td>46</td>\n",
       "    </tr>\n",
       "    <tr>\n",
       "      <th>9</th>\n",
       "      <td>Monika Krenc</td>\n",
       "      <td>46</td>\n",
       "    </tr>\n",
       "  </tbody>\n",
       "</table>\n",
       "</div>"
      ],
      "text/plain": [
       "              player score\n",
       "0      Fabian Brózda    83\n",
       "1   Agnieszka Kopyto    53\n",
       "2  Stanisław Mesjasz    52\n",
       "3      Трохим Скирда    50\n",
       "4      Šárka Fialová    49\n",
       "5    Justus Schwital    48\n",
       "6     Kornel Gabryel    47\n",
       "7       Luboš Kučera    47\n",
       "8        Liwia Blaut    46\n",
       "9       Monika Krenc    46"
      ]
     },
     "execution_count": 73,
     "metadata": {},
     "output_type": "execute_result"
    }
   ],
   "source": [
    "df2_game1.reset_index(drop=True)"
   ]
  },
  {
   "cell_type": "code",
   "execution_count": 74,
   "id": "5504d5d3",
   "metadata": {},
   "outputs": [
    {
     "name": "stdout",
     "output_type": "stream",
     "text": [
      "                  player score\n",
      "20          Marcin Brzęk    15\n",
      "21  Anastazja Żółkiewicz    14\n",
      "22           Kaja Ostasz    13\n",
      "23       Едуард Лавренко    13\n",
      "24    Anastazja Cieciura    12\n",
      "25        Ewelina Barłóg    12\n",
      "26      Anna Maria Dylik    11\n",
      "27       Stanisław Gryka    11\n",
      "28        Konrad Nalazek    10\n",
      "29      Arkadiusz Mulawa    10\n"
     ]
    }
   ],
   "source": [
    "print(df2_game3)"
   ]
  },
  {
   "cell_type": "code",
   "execution_count": 75,
   "id": "f75d6769",
   "metadata": {},
   "outputs": [
    {
     "data": {
      "text/plain": [
       "'Azul: Stained Glass of Sintra'"
      ]
     },
     "execution_count": 75,
     "metadata": {},
     "output_type": "execute_result"
    }
   ],
   "source": [
    "game1"
   ]
  },
  {
   "cell_type": "code",
   "execution_count": 76,
   "id": "a56122d9",
   "metadata": {},
   "outputs": [
    {
     "data": {
      "text/plain": [
       "'Azul: Stained Glass of Sintra'"
      ]
     },
     "execution_count": 76,
     "metadata": {},
     "output_type": "execute_result"
    }
   ],
   "source": [
    "game1"
   ]
  },
  {
   "cell_type": "code",
   "execution_count": 77,
   "id": "46cfab5b",
   "metadata": {},
   "outputs": [
    {
     "data": {
      "text/plain": [
       "'Star Trek: The Adventure Game'"
      ]
     },
     "execution_count": 77,
     "metadata": {},
     "output_type": "execute_result"
    }
   ],
   "source": [
    "game2"
   ]
  },
  {
   "cell_type": "code",
   "execution_count": 39,
   "id": "65578acf",
   "metadata": {},
   "outputs": [
    {
     "data": {
      "text/plain": [
       "'Year of the Rat: Vietnam, 1972'"
      ]
     },
     "execution_count": 39,
     "metadata": {},
     "output_type": "execute_result"
    }
   ],
   "source": [
    "game3"
   ]
  },
  {
   "cell_type": "code",
   "execution_count": 10,
   "id": "f9604e45",
   "metadata": {},
   "outputs": [
    {
     "name": "stdout",
     "output_type": "stream",
     "text": [
      "               player score\n",
      "0     Stavros Kallert    32\n",
      "1      Петро Андрощук    31\n",
      "2        Liwia Hajdas    30\n",
      "3   Agnieszka Golenia    29\n",
      "4     Agnieszka Zawal    28\n",
      "5    Anastazja Hajdas    28\n",
      "6       Suzanne Linke    27\n",
      "7   Juliusz Przystupa    26\n",
      "8       Dominik Kopyt    25\n",
      "9        Eliza Żybura    24\n",
      "10     Dagmara Siemek    21\n",
      "11    Elżbieta Preuss    20\n",
      "12     Nikodem Cogiel    19\n",
      "13  Mirella Girschner    18\n",
      "14      Dagmara Łapot    17\n",
      "15  Nataniel Pacholak    16\n",
      "16      Tadeáš Blažek    15\n",
      "17   Fryderyk Opalach    14\n",
      "18       Klara Tadych    13\n",
      "19   Златослава Козак    13\n",
      "20       Alex Jarmuła    38\n",
      "21    Dorota Pleśniak    37\n",
      "22        Nela Gogola    33\n",
      "23       Maciej Łyjak    32\n",
      "24        Ada Klyszcz    32\n",
      "25  Krystian Niemczuk    31\n",
      "26       Damian Semik    31\n",
      "27   Dagmara Grochola    30\n",
      "28       Marcin Boguś    30\n",
      "29        Maks Hubert    29\n"
     ]
    }
   ],
   "source": [
    "print(df2)"
   ]
  },
  {
   "cell_type": "code",
   "execution_count": 41,
   "id": "4e92d231",
   "metadata": {},
   "outputs": [
    {
     "data": {
      "text/html": [
       "<div>\n",
       "<style scoped>\n",
       "    .dataframe tbody tr th:only-of-type {\n",
       "        vertical-align: middle;\n",
       "    }\n",
       "\n",
       "    .dataframe tbody tr th {\n",
       "        vertical-align: top;\n",
       "    }\n",
       "\n",
       "    .dataframe thead th {\n",
       "        text-align: right;\n",
       "    }\n",
       "</style>\n",
       "<table border=\"1\" class=\"dataframe\">\n",
       "  <thead>\n",
       "    <tr style=\"text-align: right;\">\n",
       "      <th></th>\n",
       "      <th>player</th>\n",
       "      <th>score</th>\n",
       "    </tr>\n",
       "  </thead>\n",
       "  <tbody>\n",
       "    <tr>\n",
       "      <th>0</th>\n",
       "      <td>Марія Карпенко</td>\n",
       "      <td>67</td>\n",
       "    </tr>\n",
       "    <tr>\n",
       "      <th>1</th>\n",
       "      <td>Клавдія Калениченко</td>\n",
       "      <td>57</td>\n",
       "    </tr>\n",
       "    <tr>\n",
       "      <th>2</th>\n",
       "      <td>Maksymilian Ochnik</td>\n",
       "      <td>52</td>\n",
       "    </tr>\n",
       "    <tr>\n",
       "      <th>3</th>\n",
       "      <td>Симон Лупій</td>\n",
       "      <td>51</td>\n",
       "    </tr>\n",
       "    <tr>\n",
       "      <th>4</th>\n",
       "      <td>Natasza Plebanek</td>\n",
       "      <td>50</td>\n",
       "    </tr>\n",
       "    <tr>\n",
       "      <th>5</th>\n",
       "      <td>Artur Konstanty</td>\n",
       "      <td>49</td>\n",
       "    </tr>\n",
       "    <tr>\n",
       "      <th>6</th>\n",
       "      <td>Monika Goik</td>\n",
       "      <td>47</td>\n",
       "    </tr>\n",
       "    <tr>\n",
       "      <th>7</th>\n",
       "      <td>Justyna Turoń</td>\n",
       "      <td>45</td>\n",
       "    </tr>\n",
       "    <tr>\n",
       "      <th>8</th>\n",
       "      <td>Angelika Żabka</td>\n",
       "      <td>44</td>\n",
       "    </tr>\n",
       "    <tr>\n",
       "      <th>9</th>\n",
       "      <td>Oliwier Mazanek</td>\n",
       "      <td>43</td>\n",
       "    </tr>\n",
       "  </tbody>\n",
       "</table>\n",
       "</div>"
      ],
      "text/plain": [
       "                player score\n",
       "0       Марія Карпенко    67\n",
       "1  Клавдія Калениченко    57\n",
       "2   Maksymilian Ochnik    52\n",
       "3          Симон Лупій    51\n",
       "4     Natasza Plebanek    50\n",
       "5      Artur Konstanty    49\n",
       "6          Monika Goik    47\n",
       "7        Justyna Turoń    45\n",
       "8       Angelika Żabka    44\n",
       "9      Oliwier Mazanek    43"
      ]
     },
     "execution_count": 41,
     "metadata": {},
     "output_type": "execute_result"
    }
   ],
   "source": [
    "df2[df2['game']==game1][['player', 'score']]"
   ]
  },
  {
   "cell_type": "code",
   "execution_count": 69,
   "id": "13e6ed38",
   "metadata": {},
   "outputs": [],
   "source": [
    "best_player = connection.execute(text('''SELECT CONCAT(c.first_name, ' ', c.last_name) AS player, SUM(r.score) AS total_score\n",
    "FROM tournament_results AS r\n",
    "LEFT JOIN customers AS c USING(customer_id)\n",
    "GROUP BY player\n",
    "ORDER BY total_score DESC\n",
    "LIMIT 1'''))\n",
    "\n",
    "best_pl_df = pd.DataFrame(best_player.fetchall(), columns=best_player.keys())\n",
    "pl = best_pl_df['player'][0]\n",
    "sc = str(best_pl_df['total_score'][0])"
   ]
  },
  {
   "cell_type": "code",
   "execution_count": 70,
   "id": "a7fb9b28",
   "metadata": {},
   "outputs": [
    {
     "data": {
      "text/plain": [
       "'106'"
      ]
     },
     "execution_count": 70,
     "metadata": {},
     "output_type": "execute_result"
    }
   ],
   "source": [
    "sc\n"
   ]
  },
  {
   "cell_type": "code",
   "execution_count": 104,
   "id": "095837eb",
   "metadata": {},
   "outputs": [],
   "source": [
    "connection.close()"
   ]
  },
  {
   "cell_type": "code",
   "execution_count": null,
   "id": "dfe32f71",
   "metadata": {},
   "outputs": [],
   "source": []
  }
 ],
 "metadata": {
  "kernelspec": {
   "display_name": "Python 3",
   "language": "python",
   "name": "python3"
  },
  "language_info": {
   "codemirror_mode": {
    "name": "ipython",
    "version": 3
   },
   "file_extension": ".py",
   "mimetype": "text/x-python",
   "name": "python",
   "nbconvert_exporter": "python",
   "pygments_lexer": "ipython3",
   "version": "3.8.5"
  }
 },
 "nbformat": 4,
 "nbformat_minor": 5
}
