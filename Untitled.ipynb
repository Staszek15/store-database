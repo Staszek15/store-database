{
 "cells": [
  {
   "cell_type": "code",
   "execution_count": 65,
   "id": "9643a31f",
   "metadata": {},
   "outputs": [],
   "source": [
    "\n",
    "import numpy as np\n",
    "from sqlalchemy import create_engine, inspect, URL, text\n",
    "import pandas as pd\n",
    "import pymysql\n",
    "from tabulate import tabulate\n",
    "import matplotlib.pyplot as plt\n",
    "import seaborn as sns\n",
    "\n",
    "url_object = URL.create(\n",
    "  \"mysql+pymysql\",\n",
    "  username = \"team21\",\n",
    "  password = \"te@mzi\",\n",
    "  host = \"giniewicz.it\",\n",
    "  database = \"team21\"\n",
    ")\n",
    "\n",
    "engine = create_engine(url_object)\n",
    "connection = engine.connect()"
   ]
  },
  {
   "cell_type": "code",
   "execution_count": 71,
   "id": "51e665d8",
   "metadata": {},
   "outputs": [],
   "source": [
    "query2 = connection.execute(text('''SELECT g.name AS game, CONCAT(c.first_name, ' ', c.last_name) AS player, score\n",
    "FROM (\n",
    "  SELECT t.game_id, customer_id, SUM(score) AS score,\n",
    "        ROW_NUMBER() OVER (PARTITION BY game_id ORDER BY SUM(score) DESC) AS row_num\n",
    "        FROM tournament_results AS results\n",
    "        LEFT JOIN tournament AS t USING(tournament_id)\n",
    "        GROUP BY game_id, customer_id\n",
    ") AS subquery\n",
    "LEFT JOIN customers AS c USING(customer_id)\n",
    "LEFT JOIN games AS g USING(game_id)\n",
    "WHERE row_num IN (1,2,3,4,5,6,7,8,9,10) \n",
    "AND game_id IN (\n",
    "    SELECT game_id FROM (\n",
    "      SELECT DISTINCT game_id FROM tournament ORDER BY RAND() LIMIT 3\n",
    "    ) AS random_games\n",
    "  )\n",
    "ORDER BY game_id, score DESC'''))\n",
    "df2 = pd.DataFrame(query2.fetchall(), columns = query2.keys())\n",
    "#print(df2)\n",
    "game1 = df2['game'][0] \n",
    "game2 = df2['game'][10]\n",
    "game3 = df2['game'][20]"
   ]
  },
  {
   "cell_type": "code",
   "execution_count": 72,
   "id": "48623f20",
   "metadata": {},
   "outputs": [],
   "source": [
    "df2_game1 = df2[df2['game']==game1][['player', 'score']]\n",
    "df2_game2 = df2[df2['game']==game2][['player', 'score']]\n",
    "df2_game3 = df2[df2['game']==game3][['player', 'score']]"
   ]
  },
  {
   "cell_type": "code",
   "execution_count": 73,
   "id": "33e42cb8",
   "metadata": {},
   "outputs": [
    {
     "data": {
      "text/html": [
       "<div>\n",
       "<style scoped>\n",
       "    .dataframe tbody tr th:only-of-type {\n",
       "        vertical-align: middle;\n",
       "    }\n",
       "\n",
       "    .dataframe tbody tr th {\n",
       "        vertical-align: top;\n",
       "    }\n",
       "\n",
       "    .dataframe thead th {\n",
       "        text-align: right;\n",
       "    }\n",
       "</style>\n",
       "<table border=\"1\" class=\"dataframe\">\n",
       "  <thead>\n",
       "    <tr style=\"text-align: right;\">\n",
       "      <th></th>\n",
       "      <th>player</th>\n",
       "      <th>score</th>\n",
       "    </tr>\n",
       "  </thead>\n",
       "  <tbody>\n",
       "    <tr>\n",
       "      <th>0</th>\n",
       "      <td>Fabian Brózda</td>\n",
       "      <td>83</td>\n",
       "    </tr>\n",
       "    <tr>\n",
       "      <th>1</th>\n",
       "      <td>Agnieszka Kopyto</td>\n",
       "      <td>53</td>\n",
       "    </tr>\n",
       "    <tr>\n",
       "      <th>2</th>\n",
       "      <td>Stanisław Mesjasz</td>\n",
       "      <td>52</td>\n",
       "    </tr>\n",
       "    <tr>\n",
       "      <th>3</th>\n",
       "      <td>Трохим Скирда</td>\n",
       "      <td>50</td>\n",
       "    </tr>\n",
       "    <tr>\n",
       "      <th>4</th>\n",
       "      <td>Šárka Fialová</td>\n",
       "      <td>49</td>\n",
       "    </tr>\n",
       "    <tr>\n",
       "      <th>5</th>\n",
       "      <td>Justus Schwital</td>\n",
       "      <td>48</td>\n",
       "    </tr>\n",
       "    <tr>\n",
       "      <th>6</th>\n",
       "      <td>Kornel Gabryel</td>\n",
       "      <td>47</td>\n",
       "    </tr>\n",
       "    <tr>\n",
       "      <th>7</th>\n",
       "      <td>Luboš Kučera</td>\n",
       "      <td>47</td>\n",
       "    </tr>\n",
       "    <tr>\n",
       "      <th>8</th>\n",
       "      <td>Liwia Blaut</td>\n",
       "      <td>46</td>\n",
       "    </tr>\n",
       "    <tr>\n",
       "      <th>9</th>\n",
       "      <td>Monika Krenc</td>\n",
       "      <td>46</td>\n",
       "    </tr>\n",
       "  </tbody>\n",
       "</table>\n",
       "</div>"
      ],
      "text/plain": [
       "              player score\n",
       "0      Fabian Brózda    83\n",
       "1   Agnieszka Kopyto    53\n",
       "2  Stanisław Mesjasz    52\n",
       "3      Трохим Скирда    50\n",
       "4      Šárka Fialová    49\n",
       "5    Justus Schwital    48\n",
       "6     Kornel Gabryel    47\n",
       "7       Luboš Kučera    47\n",
       "8        Liwia Blaut    46\n",
       "9       Monika Krenc    46"
      ]
     },
     "execution_count": 73,
     "metadata": {},
     "output_type": "execute_result"
    }
   ],
   "source": [
    "df2_game1.reset_index(drop=True)"
   ]
  },
  {
   "cell_type": "code",
   "execution_count": 74,
   "id": "41453db7",
   "metadata": {},
   "outputs": [
    {
     "name": "stdout",
     "output_type": "stream",
     "text": [
      "                  player score\n",
      "20          Marcin Brzęk    15\n",
      "21  Anastazja Żółkiewicz    14\n",
      "22           Kaja Ostasz    13\n",
      "23       Едуард Лавренко    13\n",
      "24    Anastazja Cieciura    12\n",
      "25        Ewelina Barłóg    12\n",
      "26      Anna Maria Dylik    11\n",
      "27       Stanisław Gryka    11\n",
      "28        Konrad Nalazek    10\n",
      "29      Arkadiusz Mulawa    10\n"
     ]
    }
   ],
   "source": [
    "print(df2_game3)"
   ]
  },
  {
   "cell_type": "code",
   "execution_count": 75,
   "id": "18c535a2",
   "metadata": {},
   "outputs": [
    {
     "data": {
      "text/plain": [
       "'Azul: Stained Glass of Sintra'"
      ]
     },
     "execution_count": 75,
     "metadata": {},
     "output_type": "execute_result"
    }
   ],
   "source": [
    "game1"
   ]
  },
  {
   "cell_type": "code",
   "execution_count": 76,
   "id": "f16bb785",
   "metadata": {},
   "outputs": [
    {
     "data": {
      "text/plain": [
       "'Azul: Stained Glass of Sintra'"
      ]
     },
     "execution_count": 76,
     "metadata": {},
     "output_type": "execute_result"
    }
   ],
   "source": [
    "game1"
   ]
  },
  {
   "cell_type": "code",
   "execution_count": 77,
   "id": "04fd0d4f",
   "metadata": {},
   "outputs": [
    {
     "data": {
      "text/plain": [
       "'Star Trek: The Adventure Game'"
      ]
     },
     "execution_count": 77,
     "metadata": {},
     "output_type": "execute_result"
    }
   ],
   "source": [
    "game2"
   ]
  },
  {
   "cell_type": "code",
   "execution_count": 39,
   "id": "ef6ebf85",
   "metadata": {},
   "outputs": [
    {
     "data": {
      "text/plain": [
       "'Year of the Rat: Vietnam, 1972'"
      ]
     },
     "execution_count": 39,
     "metadata": {},
     "output_type": "execute_result"
    }
   ],
   "source": [
    "game3"
   ]
  },
  {
   "cell_type": "code",
   "execution_count": 10,
   "id": "bcbabf50",
   "metadata": {},
   "outputs": [
    {
     "name": "stdout",
     "output_type": "stream",
     "text": [
      "               player score\n",
      "0     Stavros Kallert    32\n",
      "1      Петро Андрощук    31\n",
      "2        Liwia Hajdas    30\n",
      "3   Agnieszka Golenia    29\n",
      "4     Agnieszka Zawal    28\n",
      "5    Anastazja Hajdas    28\n",
      "6       Suzanne Linke    27\n",
      "7   Juliusz Przystupa    26\n",
      "8       Dominik Kopyt    25\n",
      "9        Eliza Żybura    24\n",
      "10     Dagmara Siemek    21\n",
      "11    Elżbieta Preuss    20\n",
      "12     Nikodem Cogiel    19\n",
      "13  Mirella Girschner    18\n",
      "14      Dagmara Łapot    17\n",
      "15  Nataniel Pacholak    16\n",
      "16      Tadeáš Blažek    15\n",
      "17   Fryderyk Opalach    14\n",
      "18       Klara Tadych    13\n",
      "19   Златослава Козак    13\n",
      "20       Alex Jarmuła    38\n",
      "21    Dorota Pleśniak    37\n",
      "22        Nela Gogola    33\n",
      "23       Maciej Łyjak    32\n",
      "24        Ada Klyszcz    32\n",
      "25  Krystian Niemczuk    31\n",
      "26       Damian Semik    31\n",
      "27   Dagmara Grochola    30\n",
      "28       Marcin Boguś    30\n",
      "29        Maks Hubert    29\n"
     ]
    }
   ],
   "source": [
    "print(df2)"
   ]
  },
  {
   "cell_type": "code",
   "execution_count": 41,
   "id": "80fb6858",
   "metadata": {},
   "outputs": [
    {
     "data": {
      "text/html": [
       "<div>\n",
       "<style scoped>\n",
       "    .dataframe tbody tr th:only-of-type {\n",
       "        vertical-align: middle;\n",
       "    }\n",
       "\n",
       "    .dataframe tbody tr th {\n",
       "        vertical-align: top;\n",
       "    }\n",
       "\n",
       "    .dataframe thead th {\n",
       "        text-align: right;\n",
       "    }\n",
       "</style>\n",
       "<table border=\"1\" class=\"dataframe\">\n",
       "  <thead>\n",
       "    <tr style=\"text-align: right;\">\n",
       "      <th></th>\n",
       "      <th>player</th>\n",
       "      <th>score</th>\n",
       "    </tr>\n",
       "  </thead>\n",
       "  <tbody>\n",
       "    <tr>\n",
       "      <th>0</th>\n",
       "      <td>Марія Карпенко</td>\n",
       "      <td>67</td>\n",
       "    </tr>\n",
       "    <tr>\n",
       "      <th>1</th>\n",
       "      <td>Клавдія Калениченко</td>\n",
       "      <td>57</td>\n",
       "    </tr>\n",
       "    <tr>\n",
       "      <th>2</th>\n",
       "      <td>Maksymilian Ochnik</td>\n",
       "      <td>52</td>\n",
       "    </tr>\n",
       "    <tr>\n",
       "      <th>3</th>\n",
       "      <td>Симон Лупій</td>\n",
       "      <td>51</td>\n",
       "    </tr>\n",
       "    <tr>\n",
       "      <th>4</th>\n",
       "      <td>Natasza Plebanek</td>\n",
       "      <td>50</td>\n",
       "    </tr>\n",
       "    <tr>\n",
       "      <th>5</th>\n",
       "      <td>Artur Konstanty</td>\n",
       "      <td>49</td>\n",
       "    </tr>\n",
       "    <tr>\n",
       "      <th>6</th>\n",
       "      <td>Monika Goik</td>\n",
       "      <td>47</td>\n",
       "    </tr>\n",
       "    <tr>\n",
       "      <th>7</th>\n",
       "      <td>Justyna Turoń</td>\n",
       "      <td>45</td>\n",
       "    </tr>\n",
       "    <tr>\n",
       "      <th>8</th>\n",
       "      <td>Angelika Żabka</td>\n",
       "      <td>44</td>\n",
       "    </tr>\n",
       "    <tr>\n",
       "      <th>9</th>\n",
       "      <td>Oliwier Mazanek</td>\n",
       "      <td>43</td>\n",
       "    </tr>\n",
       "  </tbody>\n",
       "</table>\n",
       "</div>"
      ],
      "text/plain": [
       "                player score\n",
       "0       Марія Карпенко    67\n",
       "1  Клавдія Калениченко    57\n",
       "2   Maksymilian Ochnik    52\n",
       "3          Симон Лупій    51\n",
       "4     Natasza Plebanek    50\n",
       "5      Artur Konstanty    49\n",
       "6          Monika Goik    47\n",
       "7        Justyna Turoń    45\n",
       "8       Angelika Żabka    44\n",
       "9      Oliwier Mazanek    43"
      ]
     },
     "execution_count": 41,
     "metadata": {},
     "output_type": "execute_result"
    }
   ],
   "source": [
    "df2[df2['game']==game1][['player', 'score']]"
   ]
  },
  {
   "cell_type": "code",
   "execution_count": 69,
   "id": "948c7fd6",
   "metadata": {},
   "outputs": [],
   "source": [
    "best_player = connection.execute(text('''SELECT CONCAT(c.first_name, ' ', c.last_name) AS player, SUM(r.score) AS total_score\n",
    "FROM tournament_results AS r\n",
    "LEFT JOIN customers AS c USING(customer_id)\n",
    "GROUP BY player\n",
    "ORDER BY total_score DESC\n",
    "LIMIT 1'''))\n",
    "\n",
    "best_pl_df = pd.DataFrame(best_player.fetchall(), columns=best_player.keys())\n",
    "pl = best_pl_df['player'][0]\n",
    "sc = str(best_pl_df['total_score'][0])"
   ]
  },
  {
   "cell_type": "code",
   "execution_count": 70,
   "id": "18389a35",
   "metadata": {},
   "outputs": [
    {
     "data": {
      "text/plain": [
       "'106'"
      ]
     },
     "execution_count": 70,
     "metadata": {},
     "output_type": "execute_result"
    }
   ],
   "source": [
    "sc\n"
   ]
  },
  {
   "cell_type": "code",
   "execution_count": 60,
   "id": "d8d2b630",
   "metadata": {},
   "outputs": [],
   "source": [
    "connection.close()"
   ]
  },
  {
   "cell_type": "code",
   "execution_count": null,
   "id": "cd4ba75a",
   "metadata": {},
   "outputs": [],
   "source": []
  }
 ],
 "metadata": {
  "kernelspec": {
   "display_name": "Python 3",
   "language": "python",
   "name": "python3"
  },
  "language_info": {
   "codemirror_mode": {
    "name": "ipython",
    "version": 3
   },
   "file_extension": ".py",
   "mimetype": "text/x-python",
   "name": "python",
   "nbconvert_exporter": "python",
   "pygments_lexer": "ipython3",
   "version": "3.8.5"
  }
 },
 "nbformat": 4,
 "nbformat_minor": 5
}
