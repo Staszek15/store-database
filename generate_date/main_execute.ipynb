{
 "cells": [
  {
   "cell_type": "markdown",
   "id": "3c37c36b",
   "metadata": {},
   "source": [
    "## Kolejność wywoływania tabel: \n",
    "- address\n",
    "- staff\n",
    "- create_staff_schedule\n",
    "- game\n",
    "- inventory_rent\n",
    "- customer, rental\n",
    "- inventory_buy, purchase\n",
    "- tournament\n",
    "- tournament_results"
   ]
  },
  {
   "cell_type": "code",
   "execution_count": 7,
   "id": "a73ba73a",
   "metadata": {},
   "outputs": [
    {
     "ename": "ModuleNotFoundError",
     "evalue": "No module named 'generate_date'",
     "output_type": "error",
     "traceback": [
      "\u001b[1;31m---------------------------------------------------------------------------\u001b[0m",
      "\u001b[1;31mModuleNotFoundError\u001b[0m                       Traceback (most recent call last)",
      "\u001b[1;32m<ipython-input-7-9c2de4bf2505>\u001b[0m in \u001b[0;36m<module>\u001b[1;34m\u001b[0m\n\u001b[1;32m----> 1\u001b[1;33m \u001b[1;32mfrom\u001b[0m \u001b[0mgenerate_date\u001b[0m\u001b[1;33m.\u001b[0m\u001b[0mstaff\u001b[0m\u001b[1;33m.\u001b[0m\u001b[0mstaff\u001b[0m \u001b[1;32mimport\u001b[0m \u001b[1;33m*\u001b[0m\u001b[1;33m\u001b[0m\u001b[1;33m\u001b[0m\u001b[0m\n\u001b[0m",
      "\u001b[1;31mModuleNotFoundError\u001b[0m: No module named 'generate_date'"
     ]
    }
   ],
   "source": [
    "from generate_date.staff.staff import *"
   ]
  }
 ],
 "metadata": {
  "kernelspec": {
   "display_name": "Python 3",
   "language": "python",
   "name": "python3"
  },
  "language_info": {
   "codemirror_mode": {
    "name": "ipython",
    "version": 3
   },
   "file_extension": ".py",
   "mimetype": "text/x-python",
   "name": "python",
   "nbconvert_exporter": "python",
   "pygments_lexer": "ipython3",
   "version": "3.8.5"
  }
 },
 "nbformat": 4,
 "nbformat_minor": 5
}
