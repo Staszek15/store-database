{
 "cells": [
  {
   "cell_type": "code",
   "execution_count": 3,
   "metadata": {},
   "outputs": [],
   "source": [
    "import pandas as pd\n",
    "import numpy as np"
   ]
  },
  {
   "attachments": {},
   "cell_type": "markdown",
   "metadata": {},
   "source": [
    "# wybór wierszy z tabeli"
   ]
  },
  {
   "cell_type": "code",
   "execution_count": 13,
   "metadata": {},
   "outputs": [],
   "source": [
    "games = pd.read_excel('C:/Users/wypyc/Desktop/semestr_6/bazy_danych/projekt/store-database/data_excel/all_games.xlsx')\n",
    "games_amount = 50\n",
    "\n",
    "indexes = [np.random.randint(int(games.ID.min()), int(games.ID.max())) for i in range(games_amount)]\n",
    "#games = games[games.ID.isna() == False]\n",
    "games = games.dropna(subset=['ID', 'Domains'])\n",
    "games = games[games['Year Published'] >= 2018]\n",
    "games.ID = games.ID.astype(int)"
   ]
  },
  {
   "cell_type": "code",
   "execution_count": 5,
   "metadata": {},
   "outputs": [
    {
     "data": {
      "text/html": [
       "<div>\n",
       "<style scoped>\n",
       "    .dataframe tbody tr th:only-of-type {\n",
       "        vertical-align: middle;\n",
       "    }\n",
       "\n",
       "    .dataframe tbody tr th {\n",
       "        vertical-align: top;\n",
       "    }\n",
       "\n",
       "    .dataframe thead th {\n",
       "        text-align: right;\n",
       "    }\n",
       "</style>\n",
       "<table border=\"1\" class=\"dataframe\">\n",
       "  <thead>\n",
       "    <tr style=\"text-align: right;\">\n",
       "      <th></th>\n",
       "      <th>ID</th>\n",
       "      <th>Name</th>\n",
       "      <th>Year Published</th>\n",
       "      <th>Min Players</th>\n",
       "      <th>Max Players</th>\n",
       "      <th>Play Time</th>\n",
       "      <th>Min Age</th>\n",
       "      <th>Users Rated</th>\n",
       "      <th>Rating Average</th>\n",
       "      <th>BGG Rank</th>\n",
       "      <th>Complexity Average</th>\n",
       "      <th>Owned Users</th>\n",
       "      <th>Mechanics</th>\n",
       "      <th>Domains</th>\n",
       "    </tr>\n",
       "  </thead>\n",
       "  <tbody>\n",
       "    <tr>\n",
       "      <th>2</th>\n",
       "      <td>224517</td>\n",
       "      <td>Brass: Birmingham</td>\n",
       "      <td>2018.0</td>\n",
       "      <td>2</td>\n",
       "      <td>4</td>\n",
       "      <td>120</td>\n",
       "      <td>14</td>\n",
       "      <td>19217</td>\n",
       "      <td>8.66337</td>\n",
       "      <td>3</td>\n",
       "      <td>3.9129</td>\n",
       "      <td>28785.0</td>\n",
       "      <td>Hand Management, Income, Loans, Market, Networ...</td>\n",
       "      <td>Strategy Games</td>\n",
       "    </tr>\n",
       "    <tr>\n",
       "      <th>5</th>\n",
       "      <td>291457</td>\n",
       "      <td>Gloomhaven: Jaws of the Lion</td>\n",
       "      <td>2020.0</td>\n",
       "      <td>1</td>\n",
       "      <td>4</td>\n",
       "      <td>120</td>\n",
       "      <td>14</td>\n",
       "      <td>8392</td>\n",
       "      <td>8.87363</td>\n",
       "      <td>6</td>\n",
       "      <td>3.5472</td>\n",
       "      <td>21609.0</td>\n",
       "      <td>Action Queue, Campaign / Battle Card Driven, C...</td>\n",
       "      <td>Strategy Games, Thematic Games</td>\n",
       "    </tr>\n",
       "    <tr>\n",
       "      <th>19</th>\n",
       "      <td>266192</td>\n",
       "      <td>Wingspan</td>\n",
       "      <td>2019.0</td>\n",
       "      <td>1</td>\n",
       "      <td>5</td>\n",
       "      <td>70</td>\n",
       "      <td>10</td>\n",
       "      <td>43165</td>\n",
       "      <td>8.11403</td>\n",
       "      <td>20</td>\n",
       "      <td>2.4194</td>\n",
       "      <td>61775.0</td>\n",
       "      <td>Card Drafting, Dice Rolling, Drafting, End Gam...</td>\n",
       "      <td>Family Games, Strategy Games</td>\n",
       "    </tr>\n",
       "    <tr>\n",
       "      <th>23</th>\n",
       "      <td>167355</td>\n",
       "      <td>Nemesis</td>\n",
       "      <td>2018.0</td>\n",
       "      <td>1</td>\n",
       "      <td>5</td>\n",
       "      <td>180</td>\n",
       "      <td>12</td>\n",
       "      <td>12290</td>\n",
       "      <td>8.40328</td>\n",
       "      <td>24</td>\n",
       "      <td>3.3472</td>\n",
       "      <td>17574.0</td>\n",
       "      <td>Campaign / Battle Card Driven, Cooperative Gam...</td>\n",
       "      <td>Thematic Games</td>\n",
       "    </tr>\n",
       "    <tr>\n",
       "      <th>26</th>\n",
       "      <td>237182</td>\n",
       "      <td>Root</td>\n",
       "      <td>2018.0</td>\n",
       "      <td>2</td>\n",
       "      <td>4</td>\n",
       "      <td>90</td>\n",
       "      <td>10</td>\n",
       "      <td>24412</td>\n",
       "      <td>8.10459</td>\n",
       "      <td>27</td>\n",
       "      <td>3.6725</td>\n",
       "      <td>37715.0</td>\n",
       "      <td>Action Queue, Action Retrieval, Area Majority ...</td>\n",
       "      <td>Strategy Games, Wargames</td>\n",
       "    </tr>\n",
       "    <tr>\n",
       "      <th>...</th>\n",
       "      <td>...</td>\n",
       "      <td>...</td>\n",
       "      <td>...</td>\n",
       "      <td>...</td>\n",
       "      <td>...</td>\n",
       "      <td>...</td>\n",
       "      <td>...</td>\n",
       "      <td>...</td>\n",
       "      <td>...</td>\n",
       "      <td>...</td>\n",
       "      <td>...</td>\n",
       "      <td>...</td>\n",
       "      <td>...</td>\n",
       "      <td>...</td>\n",
       "    </tr>\n",
       "    <tr>\n",
       "      <th>14450</th>\n",
       "      <td>245240</td>\n",
       "      <td>Goblin Grapple</td>\n",
       "      <td>2018.0</td>\n",
       "      <td>2</td>\n",
       "      <td>4</td>\n",
       "      <td>45</td>\n",
       "      <td>14</td>\n",
       "      <td>181</td>\n",
       "      <td>8.43796</td>\n",
       "      <td>14452</td>\n",
       "      <td>1.3333</td>\n",
       "      <td>96.0</td>\n",
       "      <td>Hand Management, Memory, Take That</td>\n",
       "      <td>Family Games</td>\n",
       "    </tr>\n",
       "    <tr>\n",
       "      <th>14495</th>\n",
       "      <td>255642</td>\n",
       "      <td>Rogers' Rangers: America's First Commandos</td>\n",
       "      <td>2018.0</td>\n",
       "      <td>1</td>\n",
       "      <td>1</td>\n",
       "      <td>90</td>\n",
       "      <td>0</td>\n",
       "      <td>37</td>\n",
       "      <td>6.33513</td>\n",
       "      <td>14497</td>\n",
       "      <td>2.5714</td>\n",
       "      <td>136.0</td>\n",
       "      <td>Dice Rolling, Movement Points, Point to Point ...</td>\n",
       "      <td>Wargames</td>\n",
       "    </tr>\n",
       "    <tr>\n",
       "      <th>17174</th>\n",
       "      <td>227847</td>\n",
       "      <td>Brezhnev's War: NATO vs. the Warsaw Pact in Ge...</td>\n",
       "      <td>2018.0</td>\n",
       "      <td>1</td>\n",
       "      <td>2</td>\n",
       "      <td>360</td>\n",
       "      <td>12</td>\n",
       "      <td>39</td>\n",
       "      <td>5.62051</td>\n",
       "      <td>17176</td>\n",
       "      <td>2.0000</td>\n",
       "      <td>125.0</td>\n",
       "      <td>Dice Rolling, Hexagon Grid</td>\n",
       "      <td>Wargames</td>\n",
       "    </tr>\n",
       "    <tr>\n",
       "      <th>18137</th>\n",
       "      <td>254419</td>\n",
       "      <td>Weird Things Humans Search For</td>\n",
       "      <td>2018.0</td>\n",
       "      <td>2</td>\n",
       "      <td>20</td>\n",
       "      <td>30</td>\n",
       "      <td>14</td>\n",
       "      <td>115</td>\n",
       "      <td>5.37435</td>\n",
       "      <td>18139</td>\n",
       "      <td>1.0000</td>\n",
       "      <td>304.0</td>\n",
       "      <td>NaN</td>\n",
       "      <td>Party Games</td>\n",
       "    </tr>\n",
       "    <tr>\n",
       "      <th>20173</th>\n",
       "      <td>246701</td>\n",
       "      <td>DOS</td>\n",
       "      <td>2018.0</td>\n",
       "      <td>2</td>\n",
       "      <td>4</td>\n",
       "      <td>45</td>\n",
       "      <td>7</td>\n",
       "      <td>598</td>\n",
       "      <td>5.07674</td>\n",
       "      <td>20175</td>\n",
       "      <td>1.3333</td>\n",
       "      <td>2267.0</td>\n",
       "      <td>Hand Management</td>\n",
       "      <td>Family Games</td>\n",
       "    </tr>\n",
       "  </tbody>\n",
       "</table>\n",
       "<p>846 rows × 14 columns</p>\n",
       "</div>"
      ],
      "text/plain": [
       "           ID                                               Name   \n",
       "2      224517                                  Brass: Birmingham  \\\n",
       "5      291457                       Gloomhaven: Jaws of the Lion   \n",
       "19     266192                                           Wingspan   \n",
       "23     167355                                            Nemesis   \n",
       "26     237182                                               Root   \n",
       "...       ...                                                ...   \n",
       "14450  245240                                     Goblin Grapple   \n",
       "14495  255642         Rogers' Rangers: America's First Commandos   \n",
       "17174  227847  Brezhnev's War: NATO vs. the Warsaw Pact in Ge...   \n",
       "18137  254419                     Weird Things Humans Search For   \n",
       "20173  246701                                                DOS   \n",
       "\n",
       "       Year Published  Min Players  Max Players  Play Time  Min Age   \n",
       "2              2018.0            2            4        120       14  \\\n",
       "5              2020.0            1            4        120       14   \n",
       "19             2019.0            1            5         70       10   \n",
       "23             2018.0            1            5        180       12   \n",
       "26             2018.0            2            4         90       10   \n",
       "...               ...          ...          ...        ...      ...   \n",
       "14450          2018.0            2            4         45       14   \n",
       "14495          2018.0            1            1         90        0   \n",
       "17174          2018.0            1            2        360       12   \n",
       "18137          2018.0            2           20         30       14   \n",
       "20173          2018.0            2            4         45        7   \n",
       "\n",
       "       Users Rated  Rating Average  BGG Rank  Complexity Average  Owned Users   \n",
       "2            19217         8.66337         3              3.9129      28785.0  \\\n",
       "5             8392         8.87363         6              3.5472      21609.0   \n",
       "19           43165         8.11403        20              2.4194      61775.0   \n",
       "23           12290         8.40328        24              3.3472      17574.0   \n",
       "26           24412         8.10459        27              3.6725      37715.0   \n",
       "...            ...             ...       ...                 ...          ...   \n",
       "14450          181         8.43796     14452              1.3333         96.0   \n",
       "14495           37         6.33513     14497              2.5714        136.0   \n",
       "17174           39         5.62051     17176              2.0000        125.0   \n",
       "18137          115         5.37435     18139              1.0000        304.0   \n",
       "20173          598         5.07674     20175              1.3333       2267.0   \n",
       "\n",
       "                                               Mechanics   \n",
       "2      Hand Management, Income, Loans, Market, Networ...  \\\n",
       "5      Action Queue, Campaign / Battle Card Driven, C...   \n",
       "19     Card Drafting, Dice Rolling, Drafting, End Gam...   \n",
       "23     Campaign / Battle Card Driven, Cooperative Gam...   \n",
       "26     Action Queue, Action Retrieval, Area Majority ...   \n",
       "...                                                  ...   \n",
       "14450                 Hand Management, Memory, Take That   \n",
       "14495  Dice Rolling, Movement Points, Point to Point ...   \n",
       "17174                         Dice Rolling, Hexagon Grid   \n",
       "18137                                                NaN   \n",
       "20173                                    Hand Management   \n",
       "\n",
       "                              Domains  \n",
       "2                      Strategy Games  \n",
       "5      Strategy Games, Thematic Games  \n",
       "19       Family Games, Strategy Games  \n",
       "23                     Thematic Games  \n",
       "26           Strategy Games, Wargames  \n",
       "...                               ...  \n",
       "14450                    Family Games  \n",
       "14495                        Wargames  \n",
       "17174                        Wargames  \n",
       "18137                     Party Games  \n",
       "20173                    Family Games  \n",
       "\n",
       "[846 rows x 14 columns]"
      ]
     },
     "execution_count": 5,
     "metadata": {},
     "output_type": "execute_result"
    }
   ],
   "source": [
    "games"
   ]
  },
  {
   "cell_type": "code",
   "execution_count": 20,
   "metadata": {},
   "outputs": [
    {
     "data": {
      "text/plain": [
       "2021.0"
      ]
     },
     "execution_count": 20,
     "metadata": {},
     "output_type": "execute_result"
    }
   ],
   "source": [
    "games['Year Published'].max()"
   ]
  },
  {
   "cell_type": "code",
   "execution_count": 6,
   "metadata": {},
   "outputs": [],
   "source": [
    "indexes = [np.random.choice((list(games.ID))) for i in range(games_amount)]\n",
    "selected_games = games[games.ID.isin(indexes)]"
   ]
  },
  {
   "cell_type": "code",
   "execution_count": 7,
   "metadata": {},
   "outputs": [],
   "source": [
    "selected_games.to_excel('data_excel/selected_games.xlsx', index=False)"
   ]
  },
  {
   "attachments": {},
   "cell_type": "markdown",
   "metadata": {},
   "source": [
    "# dopasowanie tabeli do wymagań"
   ]
  },
  {
   "cell_type": "code",
   "execution_count": null,
   "metadata": {},
   "outputs": [],
   "source": [
    "my_games = pd.read_excel('data_excel/selected_games.xlsx')"
   ]
  },
  {
   "cell_type": "code",
   "execution_count": 9,
   "metadata": {},
   "outputs": [
    {
     "data": {
      "text/html": [
       "<div>\n",
       "<style scoped>\n",
       "    .dataframe tbody tr th:only-of-type {\n",
       "        vertical-align: middle;\n",
       "    }\n",
       "\n",
       "    .dataframe tbody tr th {\n",
       "        vertical-align: top;\n",
       "    }\n",
       "\n",
       "    .dataframe thead th {\n",
       "        text-align: right;\n",
       "    }\n",
       "</style>\n",
       "<table border=\"1\" class=\"dataframe\">\n",
       "  <thead>\n",
       "    <tr style=\"text-align: right;\">\n",
       "      <th></th>\n",
       "      <th>ID</th>\n",
       "      <th>Name</th>\n",
       "      <th>Year Published</th>\n",
       "      <th>Min Players</th>\n",
       "      <th>Max Players</th>\n",
       "      <th>Play Time</th>\n",
       "      <th>Min Age</th>\n",
       "      <th>Users Rated</th>\n",
       "      <th>Rating Average</th>\n",
       "      <th>BGG Rank</th>\n",
       "      <th>Complexity Average</th>\n",
       "      <th>Owned Users</th>\n",
       "      <th>Mechanics</th>\n",
       "      <th>Domains</th>\n",
       "    </tr>\n",
       "  </thead>\n",
       "  <tbody>\n",
       "    <tr>\n",
       "      <th>0</th>\n",
       "      <td>205896</td>\n",
       "      <td>Rising Sun</td>\n",
       "      <td>2018</td>\n",
       "      <td>3</td>\n",
       "      <td>5</td>\n",
       "      <td>120</td>\n",
       "      <td>14</td>\n",
       "      <td>15767</td>\n",
       "      <td>7.87643</td>\n",
       "      <td>84</td>\n",
       "      <td>3.2752</td>\n",
       "      <td>20763</td>\n",
       "      <td>Action Drafting, Alliances, Area Majority / In...</td>\n",
       "      <td>Strategy Games</td>\n",
       "    </tr>\n",
       "    <tr>\n",
       "      <th>1</th>\n",
       "      <td>244522</td>\n",
       "      <td>That's Pretty Clever!</td>\n",
       "      <td>2018</td>\n",
       "      <td>1</td>\n",
       "      <td>4</td>\n",
       "      <td>30</td>\n",
       "      <td>8</td>\n",
       "      <td>14352</td>\n",
       "      <td>7.63972</td>\n",
       "      <td>127</td>\n",
       "      <td>1.8916</td>\n",
       "      <td>21684</td>\n",
       "      <td>Dice Rolling, Drafting, Highest-Lowest Scoring...</td>\n",
       "      <td>Family Games</td>\n",
       "    </tr>\n",
       "    <tr>\n",
       "      <th>2</th>\n",
       "      <td>282524</td>\n",
       "      <td>Horrified</td>\n",
       "      <td>2019</td>\n",
       "      <td>1</td>\n",
       "      <td>5</td>\n",
       "      <td>60</td>\n",
       "      <td>10</td>\n",
       "      <td>6442</td>\n",
       "      <td>7.83699</td>\n",
       "      <td>183</td>\n",
       "      <td>2.0490</td>\n",
       "      <td>13549</td>\n",
       "      <td>Action Points, Cooperative Game, Dice Rolling,...</td>\n",
       "      <td>Thematic Games</td>\n",
       "    </tr>\n",
       "    <tr>\n",
       "      <th>3</th>\n",
       "      <td>286096</td>\n",
       "      <td>Tapestry</td>\n",
       "      <td>2019</td>\n",
       "      <td>1</td>\n",
       "      <td>5</td>\n",
       "      <td>120</td>\n",
       "      <td>12</td>\n",
       "      <td>11583</td>\n",
       "      <td>7.48614</td>\n",
       "      <td>233</td>\n",
       "      <td>2.8784</td>\n",
       "      <td>16369</td>\n",
       "      <td>Card Drafting, Chaining, Dice Rolling, Grid Co...</td>\n",
       "      <td>Strategy Games</td>\n",
       "    </tr>\n",
       "    <tr>\n",
       "      <th>4</th>\n",
       "      <td>256730</td>\n",
       "      <td>Pipeline</td>\n",
       "      <td>2019</td>\n",
       "      <td>2</td>\n",
       "      <td>4</td>\n",
       "      <td>120</td>\n",
       "      <td>12</td>\n",
       "      <td>3006</td>\n",
       "      <td>7.74760</td>\n",
       "      <td>430</td>\n",
       "      <td>3.8475</td>\n",
       "      <td>4625</td>\n",
       "      <td>Action Drafting, Commodity Speculation, Contra...</td>\n",
       "      <td>Strategy Games</td>\n",
       "    </tr>\n",
       "  </tbody>\n",
       "</table>\n",
       "</div>"
      ],
      "text/plain": [
       "       ID                   Name  Year Published  Min Players  Max Players   \n",
       "0  205896             Rising Sun            2018            3            5  \\\n",
       "1  244522  That's Pretty Clever!            2018            1            4   \n",
       "2  282524              Horrified            2019            1            5   \n",
       "3  286096               Tapestry            2019            1            5   \n",
       "4  256730               Pipeline            2019            2            4   \n",
       "\n",
       "   Play Time  Min Age  Users Rated  Rating Average  BGG Rank   \n",
       "0        120       14        15767         7.87643        84  \\\n",
       "1         30        8        14352         7.63972       127   \n",
       "2         60       10         6442         7.83699       183   \n",
       "3        120       12        11583         7.48614       233   \n",
       "4        120       12         3006         7.74760       430   \n",
       "\n",
       "   Complexity Average  Owned Users   \n",
       "0              3.2752        20763  \\\n",
       "1              1.8916        21684   \n",
       "2              2.0490        13549   \n",
       "3              2.8784        16369   \n",
       "4              3.8475         4625   \n",
       "\n",
       "                                           Mechanics         Domains  \n",
       "0  Action Drafting, Alliances, Area Majority / In...  Strategy Games  \n",
       "1  Dice Rolling, Drafting, Highest-Lowest Scoring...    Family Games  \n",
       "2  Action Points, Cooperative Game, Dice Rolling,...  Thematic Games  \n",
       "3  Card Drafting, Chaining, Dice Rolling, Grid Co...  Strategy Games  \n",
       "4  Action Drafting, Commodity Speculation, Contra...  Strategy Games  "
      ]
     },
     "execution_count": 9,
     "metadata": {},
     "output_type": "execute_result"
    }
   ],
   "source": [
    "my_games.head()"
   ]
  },
  {
   "cell_type": "code",
   "execution_count": 10,
   "metadata": {},
   "outputs": [],
   "source": [
    "my_games.ID = np.arange(1, len(my_games) + 1)"
   ]
  },
  {
   "cell_type": "code",
   "execution_count": 11,
   "metadata": {},
   "outputs": [],
   "source": [
    "my_games = my_games[['ID','Name','Min Players','Max Players','Play Time','Min Age','Rating Average','Domains']]"
   ]
  },
  {
   "attachments": {},
   "cell_type": "markdown",
   "metadata": {},
   "source": [
    "### zmiana nazw kolumn"
   ]
  },
  {
   "cell_type": "code",
   "execution_count": 12,
   "metadata": {},
   "outputs": [],
   "source": [
    "my_games = my_games.rename(columns={'ID' : 'game_id', 'Name' : 'name', 'Min Age' : 'PEGI', 'Min Players' : 'min_players', 'Max Players' : 'max_players', 'Domains' : 'category', 'Play Time' : 'duration', 'Rating Average' : 'rating'})\n",
    "my_games = my_games[['game_id','name', 'PEGI', 'min_players', 'max_players', 'category', 'duration', 'rating']]"
   ]
  },
  {
   "cell_type": "code",
   "execution_count": 13,
   "metadata": {},
   "outputs": [],
   "source": [
    "my_games.category = my_games.category.str.split(',').str[0]"
   ]
  },
  {
   "cell_type": "code",
   "execution_count": 14,
   "metadata": {},
   "outputs": [],
   "source": [
    "my_games.to_excel('data_excel/games.xlsx', index=False)"
   ]
  },
  {
   "attachments": {},
   "cell_type": "markdown",
   "metadata": {},
   "source": [
    "### dostosowanie pod turnieje"
   ]
  },
  {
   "cell_type": "code",
   "execution_count": 5,
   "metadata": {},
   "outputs": [
    {
     "ename": "ValueError",
     "evalue": "Excel file format cannot be determined, you must specify an engine manually.",
     "output_type": "error",
     "traceback": [
      "\u001b[1;31m---------------------------------------------------------------------------\u001b[0m",
      "\u001b[1;31mValueError\u001b[0m                                Traceback (most recent call last)",
      "\u001b[1;32m~\\AppData\\Local\\Temp\\ipykernel_12588\\1243948807.py\u001b[0m in \u001b[0;36m<module>\u001b[1;34m\u001b[0m\n\u001b[1;32m----> 1\u001b[1;33m \u001b[0mgames_repo\u001b[0m \u001b[1;33m=\u001b[0m \u001b[0mpd\u001b[0m\u001b[1;33m.\u001b[0m\u001b[0mread_excel\u001b[0m\u001b[1;33m(\u001b[0m\u001b[1;34m'games.xlsx'\u001b[0m\u001b[1;33m)\u001b[0m\u001b[1;33m\u001b[0m\u001b[1;33m\u001b[0m\u001b[0m\n\u001b[0m",
      "\u001b[1;32mc:\\Users\\wypyc\\anaconda3\\lib\\site-packages\\pandas\\io\\excel\\_base.py\u001b[0m in \u001b[0;36mread_excel\u001b[1;34m(io, sheet_name, header, names, index_col, usecols, dtype, engine, converters, true_values, false_values, skiprows, nrows, na_values, keep_default_na, na_filter, verbose, parse_dates, date_parser, date_format, thousands, decimal, comment, skipfooter, storage_options, dtype_backend)\u001b[0m\n\u001b[0;32m    476\u001b[0m     \u001b[1;32mif\u001b[0m \u001b[1;32mnot\u001b[0m \u001b[0misinstance\u001b[0m\u001b[1;33m(\u001b[0m\u001b[0mio\u001b[0m\u001b[1;33m,\u001b[0m \u001b[0mExcelFile\u001b[0m\u001b[1;33m)\u001b[0m\u001b[1;33m:\u001b[0m\u001b[1;33m\u001b[0m\u001b[1;33m\u001b[0m\u001b[0m\n\u001b[0;32m    477\u001b[0m         \u001b[0mshould_close\u001b[0m \u001b[1;33m=\u001b[0m \u001b[1;32mTrue\u001b[0m\u001b[1;33m\u001b[0m\u001b[1;33m\u001b[0m\u001b[0m\n\u001b[1;32m--> 478\u001b[1;33m         \u001b[0mio\u001b[0m \u001b[1;33m=\u001b[0m \u001b[0mExcelFile\u001b[0m\u001b[1;33m(\u001b[0m\u001b[0mio\u001b[0m\u001b[1;33m,\u001b[0m \u001b[0mstorage_options\u001b[0m\u001b[1;33m=\u001b[0m\u001b[0mstorage_options\u001b[0m\u001b[1;33m,\u001b[0m \u001b[0mengine\u001b[0m\u001b[1;33m=\u001b[0m\u001b[0mengine\u001b[0m\u001b[1;33m)\u001b[0m\u001b[1;33m\u001b[0m\u001b[1;33m\u001b[0m\u001b[0m\n\u001b[0m\u001b[0;32m    479\u001b[0m     \u001b[1;32melif\u001b[0m \u001b[0mengine\u001b[0m \u001b[1;32mand\u001b[0m \u001b[0mengine\u001b[0m \u001b[1;33m!=\u001b[0m \u001b[0mio\u001b[0m\u001b[1;33m.\u001b[0m\u001b[0mengine\u001b[0m\u001b[1;33m:\u001b[0m\u001b[1;33m\u001b[0m\u001b[1;33m\u001b[0m\u001b[0m\n\u001b[0;32m    480\u001b[0m         raise ValueError(\n",
      "\u001b[1;32mc:\\Users\\wypyc\\anaconda3\\lib\\site-packages\\pandas\\io\\excel\\_base.py\u001b[0m in \u001b[0;36m__init__\u001b[1;34m(self, path_or_buffer, engine, storage_options)\u001b[0m\n\u001b[0;32m   1498\u001b[0m                 )\n\u001b[0;32m   1499\u001b[0m                 \u001b[1;32mif\u001b[0m \u001b[0mext\u001b[0m \u001b[1;32mis\u001b[0m \u001b[1;32mNone\u001b[0m\u001b[1;33m:\u001b[0m\u001b[1;33m\u001b[0m\u001b[1;33m\u001b[0m\u001b[0m\n\u001b[1;32m-> 1500\u001b[1;33m                     raise ValueError(\n\u001b[0m\u001b[0;32m   1501\u001b[0m                         \u001b[1;34m\"Excel file format cannot be determined, you must specify \"\u001b[0m\u001b[1;33m\u001b[0m\u001b[1;33m\u001b[0m\u001b[0m\n\u001b[0;32m   1502\u001b[0m                         \u001b[1;34m\"an engine manually.\"\u001b[0m\u001b[1;33m\u001b[0m\u001b[1;33m\u001b[0m\u001b[0m\n",
      "\u001b[1;31mValueError\u001b[0m: Excel file format cannot be determined, you must specify an engine manually."
     ]
    }
   ],
   "source": [
    "games_repo = pd.read_excel('games.xlsx')"
   ]
  },
  {
   "cell_type": "code",
   "execution_count": 1,
   "metadata": {},
   "outputs": [
    {
     "ename": "NameError",
     "evalue": "name 'games_repo' is not defined",
     "output_type": "error",
     "traceback": [
      "\u001b[1;31m---------------------------------------------------------------------------\u001b[0m",
      "\u001b[1;31mNameError\u001b[0m                                 Traceback (most recent call last)",
      "\u001b[1;32m~\\AppData\\Local\\Temp\\ipykernel_12588\\523837078.py\u001b[0m in \u001b[0;36m<module>\u001b[1;34m\u001b[0m\n\u001b[1;32m----> 1\u001b[1;33m \u001b[0mgames_repo\u001b[0m \u001b[1;33m=\u001b[0m \u001b[0mgames_repo\u001b[0m\u001b[1;33m.\u001b[0m\u001b[0mrename\u001b[0m\u001b[1;33m(\u001b[0m\u001b[0mcolumns\u001b[0m \u001b[1;33m=\u001b[0m \u001b[1;33m{\u001b[0m\u001b[1;34m'Name'\u001b[0m\u001b[1;33m:\u001b[0m \u001b[1;34m'name'\u001b[0m\u001b[1;33m}\u001b[0m\u001b[1;33m)\u001b[0m\u001b[1;33m\u001b[0m\u001b[1;33m\u001b[0m\u001b[0m\n\u001b[0m",
      "\u001b[1;31mNameError\u001b[0m: name 'games_repo' is not defined"
     ]
    }
   ],
   "source": [
    "games_repo = games_repo.rename(columns = {'Name': 'name'})"
   ]
  },
  {
   "cell_type": "code",
   "execution_count": 57,
   "metadata": {},
   "outputs": [],
   "source": [
    "def suitable_for_tournament(dataframe):\n",
    "    if dataframe['duration'] <= 120 and dataframe['max_players'] <= 40:\n",
    "        return True\n",
    "    else:\n",
    "        return False"
   ]
  },
  {
   "cell_type": "code",
   "execution_count": 58,
   "metadata": {},
   "outputs": [],
   "source": [
    "games_repo['tournaments'] = games_repo.apply(suitable_for_tournament, axis = 1)"
   ]
  },
  {
   "cell_type": "code",
   "execution_count": 62,
   "metadata": {},
   "outputs": [],
   "source": [
    "games_repo.to_csv('games.csv', index = False)"
   ]
  },
  {
   "attachments": {},
   "cell_type": "markdown",
   "metadata": {},
   "source": [
    "### dodanie informacji o liczbie graczy w zespole"
   ]
  },
  {
   "cell_type": "code",
   "execution_count": 16,
   "metadata": {},
   "outputs": [],
   "source": [
    "games_in_store = pd.read_csv('games.csv')"
   ]
  },
  {
   "cell_type": "code",
   "execution_count": 43,
   "metadata": {},
   "outputs": [
    {
     "data": {
      "text/html": [
       "<div>\n",
       "<style scoped>\n",
       "    .dataframe tbody tr th:only-of-type {\n",
       "        vertical-align: middle;\n",
       "    }\n",
       "\n",
       "    .dataframe tbody tr th {\n",
       "        vertical-align: top;\n",
       "    }\n",
       "\n",
       "    .dataframe thead th {\n",
       "        text-align: right;\n",
       "    }\n",
       "</style>\n",
       "<table border=\"1\" class=\"dataframe\">\n",
       "  <thead>\n",
       "    <tr style=\"text-align: right;\">\n",
       "      <th></th>\n",
       "      <th>game_id</th>\n",
       "      <th>name</th>\n",
       "      <th>PEGI</th>\n",
       "      <th>min_players</th>\n",
       "      <th>max_players</th>\n",
       "      <th>category</th>\n",
       "      <th>duration</th>\n",
       "      <th>rating</th>\n",
       "      <th>tournaments</th>\n",
       "    </tr>\n",
       "  </thead>\n",
       "  <tbody>\n",
       "    <tr>\n",
       "      <th>0</th>\n",
       "      <td>1</td>\n",
       "      <td>Azul: Stained Glass of Sintra</td>\n",
       "      <td>8</td>\n",
       "      <td>2</td>\n",
       "      <td>4</td>\n",
       "      <td>Family Games</td>\n",
       "      <td>45</td>\n",
       "      <td>7.42437</td>\n",
       "      <td>True</td>\n",
       "    </tr>\n",
       "    <tr>\n",
       "      <th>1</th>\n",
       "      <td>2</td>\n",
       "      <td>Coup</td>\n",
       "      <td>13</td>\n",
       "      <td>2</td>\n",
       "      <td>6</td>\n",
       "      <td>Party Games</td>\n",
       "      <td>15</td>\n",
       "      <td>7.00517</td>\n",
       "      <td>True</td>\n",
       "    </tr>\n",
       "    <tr>\n",
       "      <th>2</th>\n",
       "      <td>3</td>\n",
       "      <td>Smartphone Inc.</td>\n",
       "      <td>12</td>\n",
       "      <td>1</td>\n",
       "      <td>5</td>\n",
       "      <td>Strategy Games</td>\n",
       "      <td>90</td>\n",
       "      <td>7.75385</td>\n",
       "      <td>True</td>\n",
       "    </tr>\n",
       "    <tr>\n",
       "      <th>3</th>\n",
       "      <td>4</td>\n",
       "      <td>Reavers of Midgard</td>\n",
       "      <td>14</td>\n",
       "      <td>2</td>\n",
       "      <td>4</td>\n",
       "      <td>Strategy Games</td>\n",
       "      <td>120</td>\n",
       "      <td>7.52013</td>\n",
       "      <td>True</td>\n",
       "    </tr>\n",
       "    <tr>\n",
       "      <th>4</th>\n",
       "      <td>5</td>\n",
       "      <td>Indian Summer</td>\n",
       "      <td>10</td>\n",
       "      <td>1</td>\n",
       "      <td>4</td>\n",
       "      <td>Family Games</td>\n",
       "      <td>60</td>\n",
       "      <td>6.80746</td>\n",
       "      <td>True</td>\n",
       "    </tr>\n",
       "  </tbody>\n",
       "</table>\n",
       "</div>"
      ],
      "text/plain": [
       "   game_id                           name  PEGI  min_players  max_players   \n",
       "0        1  Azul: Stained Glass of Sintra     8            2            4  \\\n",
       "1        2                           Coup    13            2            6   \n",
       "2        3                Smartphone Inc.    12            1            5   \n",
       "3        4             Reavers of Midgard    14            2            4   \n",
       "4        5                  Indian Summer    10            1            4   \n",
       "\n",
       "         category  duration   rating  tournaments  \n",
       "0    Family Games        45  7.42437         True  \n",
       "1     Party Games        15  7.00517         True  \n",
       "2  Strategy Games        90  7.75385         True  \n",
       "3  Strategy Games       120  7.52013         True  \n",
       "4    Family Games        60  6.80746         True  "
      ]
     },
     "execution_count": 43,
     "metadata": {},
     "output_type": "execute_result"
    }
   ],
   "source": [
    "games_in_store.head()"
   ]
  },
  {
   "cell_type": "code",
   "execution_count": 42,
   "metadata": {},
   "outputs": [],
   "source": [
    "max_players_in_team = [1,1,1,1,1,2,1,1,1,1,1,1,1,1,1,1,1,1,1,1,1,1,4,1,1,1,1,1,1,1,1,1,1,2,1,1,1,1,1,1,1,1,1,1,1,1,1,1,1,1]\n",
    "min_players_in_team = [1,1,1,1,1,1,1,1,1,1,1,1,1,1,1,1,1,1,1,1,1,1,2,1,1,1,1,1,1,1,1,1,1,2,1,1,1,1,1,1,1,1,1,1,1,1,1,1,1,1]"
   ]
  },
  {
   "cell_type": "code",
   "execution_count": 40,
   "metadata": {},
   "outputs": [
    {
     "data": {
      "text/plain": [
       "50"
      ]
     },
     "execution_count": 40,
     "metadata": {},
     "output_type": "execute_result"
    }
   ],
   "source": [
    "len(max_players_in_team)"
   ]
  },
  {
   "cell_type": "code",
   "execution_count": 52,
   "metadata": {},
   "outputs": [],
   "source": [
    "games_in_store['max_players_in_team'] = max_players_in_team"
   ]
  },
  {
   "cell_type": "code",
   "execution_count": 53,
   "metadata": {},
   "outputs": [],
   "source": [
    "games_in_store['min_players_in_team'] = min_players_in_team"
   ]
  },
  {
   "cell_type": "code",
   "execution_count": 54,
   "metadata": {},
   "outputs": [],
   "source": [
    "games_in_store.to_csv('games.csv')"
   ]
  },
  {
   "cell_type": "code",
   "execution_count": 4,
   "metadata": {},
   "outputs": [],
   "source": [
    "data = pd.read_csv('games.csv')\n",
    "data = data.rename(columns={'PEGI':'age'})"
   ]
  },
  {
   "cell_type": "code",
   "execution_count": 5,
   "metadata": {},
   "outputs": [],
   "source": [
    "data.to_csv('games.csv',index='False')"
   ]
  },
  {
   "cell_type": "code",
   "execution_count": null,
   "metadata": {},
   "outputs": [],
   "source": []
  }
 ],
 "metadata": {
  "kernelspec": {
   "display_name": "venv",
   "language": "python",
   "name": "python3"
  },
  "language_info": {
   "codemirror_mode": {
    "name": "ipython",
    "version": 3
   },
   "file_extension": ".py",
   "mimetype": "text/x-python",
   "name": "python",
   "nbconvert_exporter": "python",
   "pygments_lexer": "ipython3",
   "version": "3.9.13"
  },
  "orig_nbformat": 4
 },
 "nbformat": 4,
 "nbformat_minor": 2
}
