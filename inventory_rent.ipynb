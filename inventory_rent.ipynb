{
 "cells": [
  {
   "attachments": {
    "image.png": {
     "image/png": "[encoded data removed]"
    }
   },
   "cell_type": "markdown",
   "id": "c7ad90db",
   "metadata": {},
   "source": [
    "![image.png](attachment:image.png)"
   ]
  },
  {
   "cell_type": "code",
   "execution_count": 80,
   "id": "8314a208",
   "metadata": {},
   "outputs": [],
   "source": [
    "import pandas as pd\n",
    "import random\n",
    "import numpy as np\n",
    "import openpyxl\n",
    "import scipy"
   ]
  },
  {
   "cell_type": "code",
   "execution_count": 68,
   "id": "68a785ae",
   "metadata": {},
   "outputs": [],
   "source": [
    "from scipy.special import softmax"
   ]
  },
  {
   "cell_type": "code",
   "execution_count": 9,
   "id": "43d8833e",
   "metadata": {},
   "outputs": [],
   "source": [
    "num_games_id = 50"
   ]
  },
  {
   "cell_type": "code",
   "execution_count": null,
   "id": "d319a907",
   "metadata": {},
   "outputs": [],
   "source": [
    "#tu można pozmieniać te wartości\n",
    "num_players_games = {'1' : random.int(20, 30),\n",
    "                     '2' : random.int(15, 25),\n",
    "                     '3' : random.int(12, 20),\n",
    "                     '4' : random.int(10, 15),\n",
    "                     '5' : random.int(10, 15),\n",
    "                     'other' : random.int(5, 10)\n",
    "}"
   ]
  },
  {
   "cell_type": "code",
   "execution_count": 18,
   "id": "937cbd17",
   "metadata": {},
   "outputs": [],
   "source": [
    "games = pd.read_excel('games.xlsx')"
   ]
  },
  {
   "cell_type": "code",
   "execution_count": 19,
   "id": "f6891e22",
   "metadata": {},
   "outputs": [
    {
     "data": {
      "text/html": [
       "<div>\n",
       "<style scoped>\n",
       "    .dataframe tbody tr th:only-of-type {\n",
       "        vertical-align: middle;\n",
       "    }\n",
       "\n",
       "    .dataframe tbody tr th {\n",
       "        vertical-align: top;\n",
       "    }\n",
       "\n",
       "    .dataframe thead th {\n",
       "        text-align: right;\n",
       "    }\n",
       "</style>\n",
       "<table border=\"1\" class=\"dataframe\">\n",
       "  <thead>\n",
       "    <tr style=\"text-align: right;\">\n",
       "      <th></th>\n",
       "      <th>ID</th>\n",
       "      <th>Name</th>\n",
       "      <th>Year Published</th>\n",
       "      <th>Min Players</th>\n",
       "      <th>Max Players</th>\n",
       "      <th>Play Time</th>\n",
       "      <th>Min Age</th>\n",
       "      <th>Users Rated</th>\n",
       "      <th>Rating Average</th>\n",
       "      <th>BGG Rank</th>\n",
       "      <th>Complexity Average</th>\n",
       "      <th>Owned Users</th>\n",
       "      <th>Mechanics</th>\n",
       "      <th>Domains</th>\n",
       "    </tr>\n",
       "  </thead>\n",
       "  <tbody>\n",
       "    <tr>\n",
       "      <th>0</th>\n",
       "      <td>174430.0</td>\n",
       "      <td>Gloomhaven</td>\n",
       "      <td>2017.0</td>\n",
       "      <td>1</td>\n",
       "      <td>4</td>\n",
       "      <td>120</td>\n",
       "      <td>14</td>\n",
       "      <td>42055</td>\n",
       "      <td>8.79244</td>\n",
       "      <td>1</td>\n",
       "      <td>3.8604</td>\n",
       "      <td>68323.0</td>\n",
       "      <td>Action Queue, Action Retrieval, Campaign / Bat...</td>\n",
       "      <td>Strategy Games, Thematic Games</td>\n",
       "    </tr>\n",
       "    <tr>\n",
       "      <th>1</th>\n",
       "      <td>161936.0</td>\n",
       "      <td>Pandemic Legacy: Season 1</td>\n",
       "      <td>2015.0</td>\n",
       "      <td>2</td>\n",
       "      <td>4</td>\n",
       "      <td>60</td>\n",
       "      <td>13</td>\n",
       "      <td>41643</td>\n",
       "      <td>8.61278</td>\n",
       "      <td>2</td>\n",
       "      <td>2.8405</td>\n",
       "      <td>65294.0</td>\n",
       "      <td>Action Points, Cooperative Game, Hand Manageme...</td>\n",
       "      <td>Strategy Games, Thematic Games</td>\n",
       "    </tr>\n",
       "    <tr>\n",
       "      <th>2</th>\n",
       "      <td>224517.0</td>\n",
       "      <td>Brass: Birmingham</td>\n",
       "      <td>2018.0</td>\n",
       "      <td>2</td>\n",
       "      <td>4</td>\n",
       "      <td>120</td>\n",
       "      <td>14</td>\n",
       "      <td>19217</td>\n",
       "      <td>8.66337</td>\n",
       "      <td>3</td>\n",
       "      <td>3.9129</td>\n",
       "      <td>28785.0</td>\n",
       "      <td>Hand Management, Income, Loans, Market, Networ...</td>\n",
       "      <td>Strategy Games</td>\n",
       "    </tr>\n",
       "    <tr>\n",
       "      <th>3</th>\n",
       "      <td>167791.0</td>\n",
       "      <td>Terraforming Mars</td>\n",
       "      <td>2016.0</td>\n",
       "      <td>1</td>\n",
       "      <td>5</td>\n",
       "      <td>120</td>\n",
       "      <td>12</td>\n",
       "      <td>64864</td>\n",
       "      <td>8.43254</td>\n",
       "      <td>4</td>\n",
       "      <td>3.2406</td>\n",
       "      <td>87099.0</td>\n",
       "      <td>Card Drafting, Drafting, End Game Bonuses, Han...</td>\n",
       "      <td>Strategy Games</td>\n",
       "    </tr>\n",
       "    <tr>\n",
       "      <th>4</th>\n",
       "      <td>233078.0</td>\n",
       "      <td>Twilight Imperium: Fourth Edition</td>\n",
       "      <td>2017.0</td>\n",
       "      <td>3</td>\n",
       "      <td>6</td>\n",
       "      <td>480</td>\n",
       "      <td>14</td>\n",
       "      <td>13468</td>\n",
       "      <td>8.69649</td>\n",
       "      <td>5</td>\n",
       "      <td>4.2219</td>\n",
       "      <td>16831.0</td>\n",
       "      <td>Action Drafting, Area Majority / Influence, Ar...</td>\n",
       "      <td>Strategy Games, Thematic Games</td>\n",
       "    </tr>\n",
       "  </tbody>\n",
       "</table>\n",
       "</div>"
      ],
      "text/plain": [
       "         ID                               Name  Year Published  Min Players  \\\n",
       "0  174430.0                         Gloomhaven          2017.0            1   \n",
       "1  161936.0          Pandemic Legacy: Season 1          2015.0            2   \n",
       "2  224517.0                  Brass: Birmingham          2018.0            2   \n",
       "3  167791.0                  Terraforming Mars          2016.0            1   \n",
       "4  233078.0  Twilight Imperium: Fourth Edition          2017.0            3   \n",
       "\n",
       "   Max Players  Play Time  Min Age  Users Rated  Rating Average  BGG Rank  \\\n",
       "0            4        120       14        42055         8.79244         1   \n",
       "1            4         60       13        41643         8.61278         2   \n",
       "2            4        120       14        19217         8.66337         3   \n",
       "3            5        120       12        64864         8.43254         4   \n",
       "4            6        480       14        13468         8.69649         5   \n",
       "\n",
       "   Complexity Average  Owned Users  \\\n",
       "0              3.8604      68323.0   \n",
       "1              2.8405      65294.0   \n",
       "2              3.9129      28785.0   \n",
       "3              3.2406      87099.0   \n",
       "4              4.2219      16831.0   \n",
       "\n",
       "                                           Mechanics  \\\n",
       "0  Action Queue, Action Retrieval, Campaign / Bat...   \n",
       "1  Action Points, Cooperative Game, Hand Manageme...   \n",
       "2  Hand Management, Income, Loans, Market, Networ...   \n",
       "3  Card Drafting, Drafting, End Game Bonuses, Han...   \n",
       "4  Action Drafting, Area Majority / Influence, Ar...   \n",
       "\n",
       "                          Domains  \n",
       "0  Strategy Games, Thematic Games  \n",
       "1  Strategy Games, Thematic Games  \n",
       "2                  Strategy Games  \n",
       "3                  Strategy Games  \n",
       "4  Strategy Games, Thematic Games  "
      ]
     },
     "execution_count": 19,
     "metadata": {},
     "output_type": "execute_result"
    }
   ],
   "source": [
    "games.head()"
   ]
  },
  {
   "cell_type": "code",
   "execution_count": 41,
   "id": "1d9f026a",
   "metadata": {},
   "outputs": [],
   "source": [
    "n_items = 500\n",
    "#max_players_for_game = 15\n",
    "m_players = [1, 2, 3, 4, 5]\n",
    "probs = [0.2, 0.4, 0.2, 0.1, 0.1]\n",
    "np.random.seed(42)\n",
    "\n",
    "n_players = np.random.choice([1, 2, 3, 4, 5], (n_items,), p=probs) #losujemy ile bd 1, ile 2, ile 3 itd...\n",
    "# n_players_with_5 = (n_players == 5).sum()\n",
    "# players_above_5 = np.random.randint(5, max_players_for_game + 1, (n_players_with_5,))\n",
    "# n_players[n_players == 5] = players_above_5"
   ]
  },
  {
   "cell_type": "code",
   "execution_count": 82,
   "id": "9f7fa15a",
   "metadata": {},
   "outputs": [],
   "source": [
    "gen_id = np.arange(50)\n",
    "n_players_sim = np.random.randint(1, max_players_for_game, (50, )) #to ma byc max players z danej gry\n",
    "ratings = np.random.randint(0, 10, (50,)) #to ma byc rating danej gry\n",
    "used_data = pd.DataFrame({'id' : games['ID'], 'max_players' : games['Max Players'], 'rating' : games['Rating Average']})\n",
    "sim_data = pd.DataFrame({'id': genre_id, 'n_players_sim': n_players_sim, 'rating':ratings})"
   ]
  },
  {
   "cell_type": "code",
   "execution_count": 83,
   "id": "ed0a65dc",
   "metadata": {},
   "outputs": [],
   "source": [
    "def exchange_players_to_game_id(df, n_players):\n",
    "    sim_id = []\n",
    "    for i in range(1, 6):\n",
    "        n = (n_players == i).sum()\n",
    "        if i == 5:\n",
    "            simulated_id = list(np.random.choice(df.loc[df['n_players_sim'] >= i, 'id'].values, (n,)))\n",
    "        else:\n",
    "            simulated_id = list(np.random.choice(df.loc[df['n_players_sim'] == i, 'id'].values, (n,)))\n",
    "        sim_id += simulated_id\n",
    "    return sim_id"
   ]
  },
  {
   "cell_type": "code",
   "execution_count": null,
   "id": "389ea401",
   "metadata": {},
   "outputs": [],
   "source": [
    "def exchange_players_to_game_id2(df, n_players):\n",
    "    game_id = []\n",
    "    for i in range(1, 6):\n",
    "        n = (n_players == i).sum()\n",
    "        if i == 5:\n",
    "            prob_r = softmax(df.loc[df['Max Players'] >= i, 'Rating Average'].values)\n",
    "            simulated_id = list(np.random.choice(df.loc[df['Max Players'] >= i, 'ID'].values, (n,), p = prob_r))\n",
    "        else:\n",
    "            prob_r = softmax(df.loc[df['Max Players'] >= i, 'Rating Average'].values)\n",
    "            simulated_id = list(np.random.choice(df.loc[df['Max Players'] == i, 'ID'].values, (n,), p = prob_r))\n",
    "        game_id += simulated_id\n",
    "    return game_id"
   ]
  },
  {
   "cell_type": "code",
   "execution_count": 75,
   "id": "40922676",
   "metadata": {},
   "outputs": [
    {
     "data": {
      "text/plain": [
       "array([167791., 169786., 120677., ...,   4077.,   5130.,  11017.])"
      ]
     },
     "execution_count": 75,
     "metadata": {},
     "output_type": "execute_result"
    }
   ],
   "source": [
    "games.loc[games['Max Players'] == 5, 'ID'].values"
   ]
  },
  {
   "cell_type": "code",
   "execution_count": 85,
   "id": "a17c72be",
   "metadata": {},
   "outputs": [
    {
     "data": {
      "text/plain": [
       "[33,\n",
       " 37,\n",
       " 44,\n",
       " 44,\n",
       " 2,\n",
       " 2,\n",
       " 33,\n",
       " 44,\n",
       " 2,\n",
       " 37,\n",
       " 37,\n",
       " 2,\n",
       " 2,\n",
       " 44,\n",
       " 44,\n",
       " 33,\n",
       " 44,\n",
       " 37,\n",
       " 37,\n",
       " 2,\n",
       " 44,\n",
       " 33,\n",
       " 37,\n",
       " 37,\n",
       " 33,\n",
       " 33,\n",
       " 37,\n",
       " 37,\n",
       " 17,\n",
       " 36,\n",
       " 10,\n",
       " 10,\n",
       " 17,\n",
       " 17,\n",
       " 17,\n",
       " 10,\n",
       " 36,\n",
       " 10,\n",
       " 36,\n",
       " 10,\n",
       " 36,\n",
       " 10,\n",
       " 17,\n",
       " 10,\n",
       " 36,\n",
       " 10,\n",
       " 10,\n",
       " 10,\n",
       " 17,\n",
       " 10,\n",
       " 17,\n",
       " 17,\n",
       " 10,\n",
       " 10,\n",
       " 10,\n",
       " 36,\n",
       " 10,\n",
       " 17,\n",
       " 10,\n",
       " 36,\n",
       " 10,\n",
       " 36,\n",
       " 36,\n",
       " 34,\n",
       " 0,\n",
       " 11,\n",
       " 0,\n",
       " 0,\n",
       " 0,\n",
       " 49,\n",
       " 32,\n",
       " 0,\n",
       " 32,\n",
       " 34,\n",
       " 11,\n",
       " 34,\n",
       " 34,\n",
       " 49,\n",
       " 11,\n",
       " 34,\n",
       " 34,\n",
       " 11,\n",
       " 35,\n",
       " 22,\n",
       " 35,\n",
       " 22,\n",
       " 35,\n",
       " 35,\n",
       " 14,\n",
       " 14,\n",
       " 35,\n",
       " 40,\n",
       " 23,\n",
       " 12,\n",
       " 47,\n",
       " 26,\n",
       " 18,\n",
       " 41,\n",
       " 42,\n",
       " 18]"
      ]
     },
     "execution_count": 85,
     "metadata": {},
     "output_type": "execute_result"
    }
   ],
   "source": [
    "exchange_players_to_game_id(sim_data, n_players)"
   ]
  },
  {
   "cell_type": "code",
   "execution_count": null,
   "id": "abed1071",
   "metadata": {},
   "outputs": [],
   "source": [
    "prob_r = softmax(df.loc[df['Max Players'] >= i, 'Rating Average'].values)"
   ]
  },
  {
   "cell_type": "code",
   "execution_count": 49,
   "id": "949a9982",
   "metadata": {},
   "outputs": [
    {
     "data": {
      "text/plain": [
       "100"
      ]
     },
     "execution_count": 49,
     "metadata": {},
     "output_type": "execute_result"
    }
   ],
   "source": [
    "len(exchange_players_to_game_id(sim_data, n_players)) #game_id"
   ]
  },
  {
   "cell_type": "code",
   "execution_count": 42,
   "id": "0c62b814",
   "metadata": {},
   "outputs": [
    {
     "data": {
      "text/plain": [
       "array([2, 5, 3, 2, 1, 1, 1, 4, 3, 3, 1, 5, 4, 2, 1, 1, 2, 2, 2, 2, 3, 1,\n",
       "       2, 2, 2, 3, 1, 2, 2, 1, 3, 1, 1, 5, 5, 4, 2, 1, 3, 2, 1, 2, 1, 5,\n",
       "       2, 3, 2, 2, 2, 1, 5, 3, 5, 4, 2, 5, 1, 1, 1, 2, 2, 2, 4, 2, 2, 2,\n",
       "       1, 4, 1, 5, 3, 1, 1, 4, 3, 3, 3, 1, 2, 1, 4, 3, 2, 1, 2, 2, 3, 3,\n",
       "       4, 2, 1, 3, 3, 2, 3, 2, 2, 2, 1, 1])"
      ]
     },
     "execution_count": 42,
     "metadata": {},
     "output_type": "execute_result"
    }
   ],
   "source": [
    "n_players"
   ]
  },
  {
   "cell_type": "code",
   "execution_count": null,
   "id": "b239b7f6",
   "metadata": {},
   "outputs": [],
   "source": [
    "data = {'game_id' : exchange_players_to_game_id(sim_data, n_players))\n",
    "        'price' : ,\n",
    "        }"
   ]
  },
  {
   "cell_type": "code",
   "execution_count": null,
   "id": "760bc71f",
   "metadata": {},
   "outputs": [],
   "source": []
  }
 ],
 "metadata": {
  "kernelspec": {
   "display_name": "Python 3",
   "language": "python",
   "name": "python3"
  },
  "language_info": {
   "codemirror_mode": {
    "name": "ipython",
    "version": 3
   },
   "file_extension": ".py",
   "mimetype": "text/x-python",
   "name": "python",
   "nbconvert_exporter": "python",
   "pygments_lexer": "ipython3",
   "version": "3.8.5"
  }
 },
 "nbformat": 4,
 "nbformat_minor": 5
}
