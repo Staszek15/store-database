{
 "cells": [
  {
   "attachments": {
    "image.png": {
     "image/png": "[encoded data removed]"
    }
   },
   "cell_type": "markdown",
   "id": "c7ad90db",
   "metadata": {},
   "source": [
    "![image.png](attachment:image.png)"
   ]
  },
  {
   "cell_type": "code",
   "execution_count": 6,
   "id": "8314a208",
   "metadata": {},
   "outputs": [],
   "source": [
    "import pandas as pd\n",
    "import random\n",
    "import numpy as np\n",
    "import openpyxl\n",
    "from scipy.special import softmax"
   ]
  },
  {
   "cell_type": "code",
   "execution_count": 11,
   "id": "937cbd17",
   "metadata": {},
   "outputs": [],
   "source": [
    "games = pd.read_excel('games.xlsx')"
   ]
  },
  {
   "cell_type": "code",
   "execution_count": 99,
   "id": "f6891e22",
   "metadata": {},
   "outputs": [
    {
     "data": {
      "text/html": [
       "<div>\n",
       "<style scoped>\n",
       "    .dataframe tbody tr th:only-of-type {\n",
       "        vertical-align: middle;\n",
       "    }\n",
       "\n",
       "    .dataframe tbody tr th {\n",
       "        vertical-align: top;\n",
       "    }\n",
       "\n",
       "    .dataframe thead th {\n",
       "        text-align: right;\n",
       "    }\n",
       "</style>\n",
       "<table border=\"1\" class=\"dataframe\">\n",
       "  <thead>\n",
       "    <tr style=\"text-align: right;\">\n",
       "      <th></th>\n",
       "      <th>game_id</th>\n",
       "      <th>name</th>\n",
       "      <th>PEGI</th>\n",
       "      <th>min_players</th>\n",
       "      <th>max_players</th>\n",
       "      <th>category</th>\n",
       "      <th>duration</th>\n",
       "      <th>rating</th>\n",
       "    </tr>\n",
       "  </thead>\n",
       "  <tbody>\n",
       "    <tr>\n",
       "      <th>45</th>\n",
       "      <td>46</td>\n",
       "      <td>Balkan Hell</td>\n",
       "      <td>12</td>\n",
       "      <td>2</td>\n",
       "      <td>2</td>\n",
       "      <td>Wargames</td>\n",
       "      <td>120</td>\n",
       "      <td>6.11628</td>\n",
       "    </tr>\n",
       "    <tr>\n",
       "      <th>46</th>\n",
       "      <td>47</td>\n",
       "      <td>Kakuro Challenge</td>\n",
       "      <td>7</td>\n",
       "      <td>2</td>\n",
       "      <td>4</td>\n",
       "      <td>Abstract Games</td>\n",
       "      <td>30</td>\n",
       "      <td>5.51522</td>\n",
       "    </tr>\n",
       "    <tr>\n",
       "      <th>47</th>\n",
       "      <td>48</td>\n",
       "      <td>Tashkent Domino</td>\n",
       "      <td>8</td>\n",
       "      <td>2</td>\n",
       "      <td>2</td>\n",
       "      <td>Abstract Games</td>\n",
       "      <td>10</td>\n",
       "      <td>5.56579</td>\n",
       "    </tr>\n",
       "    <tr>\n",
       "      <th>48</th>\n",
       "      <td>49</td>\n",
       "      <td>The Last Banquet</td>\n",
       "      <td>10</td>\n",
       "      <td>6</td>\n",
       "      <td>25</td>\n",
       "      <td>Party Games</td>\n",
       "      <td>45</td>\n",
       "      <td>5.50509</td>\n",
       "    </tr>\n",
       "    <tr>\n",
       "      <th>49</th>\n",
       "      <td>50</td>\n",
       "      <td>Inner Circle</td>\n",
       "      <td>8</td>\n",
       "      <td>2</td>\n",
       "      <td>4</td>\n",
       "      <td>Abstract Games</td>\n",
       "      <td>20</td>\n",
       "      <td>5.39520</td>\n",
       "    </tr>\n",
       "  </tbody>\n",
       "</table>\n",
       "</div>"
      ],
      "text/plain": [
       "    game_id              name  PEGI  min_players  max_players        category  \\\n",
       "45       46       Balkan Hell    12            2            2        Wargames   \n",
       "46       47  Kakuro Challenge     7            2            4  Abstract Games   \n",
       "47       48   Tashkent Domino     8            2            2  Abstract Games   \n",
       "48       49  The Last Banquet    10            6           25     Party Games   \n",
       "49       50      Inner Circle     8            2            4  Abstract Games   \n",
       "\n",
       "    duration   rating  \n",
       "45       120  6.11628  \n",
       "46        30  5.51522  \n",
       "47        10  5.56579  \n",
       "48        45  5.50509  \n",
       "49        20  5.39520  "
      ]
     },
     "execution_count": 99,
     "metadata": {},
     "output_type": "execute_result"
    }
   ],
   "source": [
    "games.tail()"
   ]
  },
  {
   "cell_type": "code",
   "execution_count": 111,
   "id": "43d8833e",
   "metadata": {},
   "outputs": [],
   "source": [
    "num_games_id = 50\n",
    "all_items = 500"
   ]
  },
  {
   "cell_type": "code",
   "execution_count": 112,
   "id": "1d9f026a",
   "metadata": {},
   "outputs": [],
   "source": [
    "possible_players = [1, 2, 3, 4, 5]\n",
    "probs = [0.2, 0.4, 0, 0.3, 0.1] #nie mamy gier na max 3 graczy\n",
    "np.random.seed(42)\n",
    "\n",
    "n_players = np.random.choice([1, 2, 3, 4, 5], size = all_items, p=probs) #losujemy ile bd 1, ile 2, ile 3 itd"
   ]
  },
  {
   "cell_type": "code",
   "execution_count": 116,
   "id": "389ea401",
   "metadata": {},
   "outputs": [],
   "source": [
    "def exchange_players_to_game_id(df, n_players):\n",
    "    game_id = []\n",
    "    for i in range(1, 6):\n",
    "        n = (n_players == i).sum()\n",
    "        if i == 5:\n",
    "            prob_r = softmax(games.loc[games['max_players'] >= i, 'rating'].values)\n",
    "            simulated_id = list(np.random.choice(games.loc[games['max_players'] >= i, 'game_id'].values, p = prob_r, size = n))\n",
    "            game_id += simulated_id\n",
    "        else:\n",
    "            if len(games.loc[games['max_players'] == i, 'rating'].values) != 0:\n",
    "                prob_r = softmax(games.loc[games['max_players'] == i, 'rating'].values)\n",
    "                simulated_id = list(np.random.choice(games.loc[games['max_players'] == i, 'game_id'].values, p = prob_r, size = n))\n",
    "                game_id += simulated_id\n",
    "    return game_id"
   ]
  },
  {
   "cell_type": "code",
   "execution_count": 117,
   "id": "949a9982",
   "metadata": {},
   "outputs": [
    {
     "data": {
      "text/plain": [
       "500"
      ]
     },
     "execution_count": 117,
     "metadata": {},
     "output_type": "execute_result"
    }
   ],
   "source": [
    "len(exchange_players_to_game_id(games, n_players)) #wygenerowane game_ids do tabeli inventory_rent"
   ]
  },
  {
   "cell_type": "code",
   "execution_count": 127,
   "id": "2fbfc0b4",
   "metadata": {},
   "outputs": [],
   "source": [
    "#dobra narazie chamskie ceny\n",
    "prices = list(np.random.choice(np.arange(3,25), size = 500))"
   ]
  },
  {
   "cell_type": "code",
   "execution_count": 126,
   "id": "5b7edcba",
   "metadata": {},
   "outputs": [],
   "source": [
    "game_ids = shuffle(exchange_players_to_game_id(games, n_players)"
   ]
  },
  {
   "cell_type": "code",
   "execution_count": 128,
   "id": "b239b7f6",
   "metadata": {},
   "outputs": [],
   "source": [
    "data = {'game_id' : game_ids,\n",
    "        'price' : prices,\n",
    "        }"
   ]
  },
  {
   "cell_type": "code",
   "execution_count": 130,
   "id": "b8811d2b",
   "metadata": {},
   "outputs": [
    {
     "data": {
      "text/html": [
       "<div>\n",
       "<style scoped>\n",
       "    .dataframe tbody tr th:only-of-type {\n",
       "        vertical-align: middle;\n",
       "    }\n",
       "\n",
       "    .dataframe tbody tr th {\n",
       "        vertical-align: top;\n",
       "    }\n",
       "\n",
       "    .dataframe thead th {\n",
       "        text-align: right;\n",
       "    }\n",
       "</style>\n",
       "<table border=\"1\" class=\"dataframe\">\n",
       "  <thead>\n",
       "    <tr style=\"text-align: right;\">\n",
       "      <th></th>\n",
       "      <th>game_id</th>\n",
       "      <th>price</th>\n",
       "    </tr>\n",
       "  </thead>\n",
       "  <tbody>\n",
       "    <tr>\n",
       "      <th>0</th>\n",
       "      <td>22</td>\n",
       "      <td>23</td>\n",
       "    </tr>\n",
       "    <tr>\n",
       "      <th>1</th>\n",
       "      <td>13</td>\n",
       "      <td>4</td>\n",
       "    </tr>\n",
       "    <tr>\n",
       "      <th>2</th>\n",
       "      <td>13</td>\n",
       "      <td>20</td>\n",
       "    </tr>\n",
       "    <tr>\n",
       "      <th>3</th>\n",
       "      <td>13</td>\n",
       "      <td>17</td>\n",
       "    </tr>\n",
       "    <tr>\n",
       "      <th>4</th>\n",
       "      <td>13</td>\n",
       "      <td>3</td>\n",
       "    </tr>\n",
       "    <tr>\n",
       "      <th>...</th>\n",
       "      <td>...</td>\n",
       "      <td>...</td>\n",
       "    </tr>\n",
       "    <tr>\n",
       "      <th>495</th>\n",
       "      <td>2</td>\n",
       "      <td>7</td>\n",
       "    </tr>\n",
       "    <tr>\n",
       "      <th>496</th>\n",
       "      <td>31</td>\n",
       "      <td>12</td>\n",
       "    </tr>\n",
       "    <tr>\n",
       "      <th>497</th>\n",
       "      <td>3</td>\n",
       "      <td>11</td>\n",
       "    </tr>\n",
       "    <tr>\n",
       "      <th>498</th>\n",
       "      <td>2</td>\n",
       "      <td>15</td>\n",
       "    </tr>\n",
       "    <tr>\n",
       "      <th>499</th>\n",
       "      <td>14</td>\n",
       "      <td>21</td>\n",
       "    </tr>\n",
       "  </tbody>\n",
       "</table>\n",
       "<p>500 rows × 2 columns</p>\n",
       "</div>"
      ],
      "text/plain": [
       "     game_id  price\n",
       "0         22     23\n",
       "1         13      4\n",
       "2         13     20\n",
       "3         13     17\n",
       "4         13      3\n",
       "..       ...    ...\n",
       "495        2      7\n",
       "496       31     12\n",
       "497        3     11\n",
       "498        2     15\n",
       "499       14     21\n",
       "\n",
       "[500 rows x 2 columns]"
      ]
     },
     "execution_count": 130,
     "metadata": {},
     "output_type": "execute_result"
    }
   ],
   "source": [
    "inventory_rent = pd.DataFrame(data)\n",
    "inventory_rent"
   ]
  },
  {
   "cell_type": "code",
   "execution_count": 131,
   "id": "6d57906a",
   "metadata": {},
   "outputs": [],
   "source": [
    "inventory_rent.to_csv('inventory_rent.csv')"
   ]
  }
 ],
 "metadata": {
  "kernelspec": {
   "display_name": "Python 3 (ipykernel)",
   "language": "python",
   "name": "python3"
  },
  "language_info": {
   "codemirror_mode": {
    "name": "ipython",
    "version": 3
   },
   "file_extension": ".py",
   "mimetype": "text/x-python",
   "name": "python",
   "nbconvert_exporter": "python",
   "pygments_lexer": "ipython3",
   "version": "3.11.3"
  }
 },
 "nbformat": 4,
 "nbformat_minor": 5
}
