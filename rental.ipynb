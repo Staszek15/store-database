{
 "cells": [
  {
   "attachments": {
    "image.png": {
     "image/png": "[encoded data removed]"
    }
   },
   "cell_type": "markdown",
   "id": "8f8ba534",
   "metadata": {},
   "source": [
    "![image.png](attachment:image.png)"
   ]
  },
  {
   "cell_type": "code",
   "execution_count": 94,
   "id": "de9abd21",
   "metadata": {},
   "outputs": [],
   "source": [
    "import pandas as pd\n",
    "import numpy as np\n",
    "import datetime\n",
    "#import faker"
   ]
  },
  {
   "cell_type": "code",
   "execution_count": 3,
   "id": "1f202364",
   "metadata": {},
   "outputs": [],
   "source": [
    "#czas wypozyczenia to 1 tydzień, 1 dzien opoznienia to 1/10 ceny wypozyczenia\n",
    "#zakladamy okolo 35 wypozyczen dziennie co daje lacznie okolo 19 tysiecy (powiedzmyze 19241)"
   ]
  },
  {
   "cell_type": "code",
   "execution_count": 5,
   "id": "6f8375ad",
   "metadata": {},
   "outputs": [],
   "source": [
    "inventory_rent = pd.read_csv('inventory_rent.csv')\n",
    "customer = pd.read_csv('customers.csv')"
   ]
  },
  {
   "cell_type": "code",
   "execution_count": 12,
   "id": "fa6ba884",
   "metadata": {},
   "outputs": [],
   "source": [
    "customer['customer_id'] = customer['customer_id'] + 1 #to jak sie zmieni w customeraxch id od 1 to do usuniecia"
   ]
  },
  {
   "cell_type": "code",
   "execution_count": 14,
   "id": "36507c24",
   "metadata": {},
   "outputs": [
    {
     "data": {
      "text/html": [
       "<div>\n",
       "<style scoped>\n",
       "    .dataframe tbody tr th:only-of-type {\n",
       "        vertical-align: middle;\n",
       "    }\n",
       "\n",
       "    .dataframe tbody tr th {\n",
       "        vertical-align: top;\n",
       "    }\n",
       "\n",
       "    .dataframe thead th {\n",
       "        text-align: right;\n",
       "    }\n",
       "</style>\n",
       "<table border=\"1\" class=\"dataframe\">\n",
       "  <thead>\n",
       "    <tr style=\"text-align: right;\">\n",
       "      <th></th>\n",
       "      <th>customer_id</th>\n",
       "      <th>first_name</th>\n",
       "      <th>last_name</th>\n",
       "      <th>birthdate</th>\n",
       "      <th>VIP</th>\n",
       "      <th>points</th>\n",
       "      <th>email</th>\n",
       "      <th>phone</th>\n",
       "      <th>address_id</th>\n",
       "      <th>registration_date</th>\n",
       "    </tr>\n",
       "  </thead>\n",
       "  <tbody>\n",
       "    <tr>\n",
       "      <th>0</th>\n",
       "      <td>1</td>\n",
       "      <td>Rafał</td>\n",
       "      <td>Futyma</td>\n",
       "      <td>1985-12-22</td>\n",
       "      <td>0</td>\n",
       "      <td>0</td>\n",
       "      <td>RafaFutym@gmail.com</td>\n",
       "      <td>565462241</td>\n",
       "      <td>0</td>\n",
       "      <td>2022-02-12</td>\n",
       "    </tr>\n",
       "    <tr>\n",
       "      <th>1</th>\n",
       "      <td>2</td>\n",
       "      <td>Hubert</td>\n",
       "      <td>Śleziak</td>\n",
       "      <td>1993-05-30</td>\n",
       "      <td>1</td>\n",
       "      <td>1</td>\n",
       "      <td>HuberŚle40@o2.pl</td>\n",
       "      <td>411276177</td>\n",
       "      <td>1</td>\n",
       "      <td>2022-07-05</td>\n",
       "    </tr>\n",
       "    <tr>\n",
       "      <th>2</th>\n",
       "      <td>3</td>\n",
       "      <td>Michał</td>\n",
       "      <td>Warchał</td>\n",
       "      <td>1977-11-06</td>\n",
       "      <td>2</td>\n",
       "      <td>2</td>\n",
       "      <td>MichaWa@wp.pl</td>\n",
       "      <td>872630812</td>\n",
       "      <td>2</td>\n",
       "      <td>2021-08-13</td>\n",
       "    </tr>\n",
       "    <tr>\n",
       "      <th>3</th>\n",
       "      <td>4</td>\n",
       "      <td>Anita</td>\n",
       "      <td>Magryta</td>\n",
       "      <td>1953-05-31</td>\n",
       "      <td>3</td>\n",
       "      <td>3</td>\n",
       "      <td>AnitMagry@o2.pl</td>\n",
       "      <td>289656001</td>\n",
       "      <td>3</td>\n",
       "      <td>2021-03-01</td>\n",
       "    </tr>\n",
       "    <tr>\n",
       "      <th>4</th>\n",
       "      <td>5</td>\n",
       "      <td>Józef</td>\n",
       "      <td>Dorawa</td>\n",
       "      <td>1976-05-24</td>\n",
       "      <td>4</td>\n",
       "      <td>4</td>\n",
       "      <td>JózDor72@live.com</td>\n",
       "      <td>251151747</td>\n",
       "      <td>4</td>\n",
       "      <td>2021-06-08</td>\n",
       "    </tr>\n",
       "  </tbody>\n",
       "</table>\n",
       "</div>"
      ],
      "text/plain": [
       "   customer_id first_name last_name   birthdate  VIP  points  \\\n",
       "0            1      Rafał    Futyma  1985-12-22    0       0   \n",
       "1            2     Hubert   Śleziak  1993-05-30    1       1   \n",
       "2            3     Michał   Warchał  1977-11-06    2       2   \n",
       "3            4      Anita   Magryta  1953-05-31    3       3   \n",
       "4            5      Józef    Dorawa  1976-05-24    4       4   \n",
       "\n",
       "                 email      phone  address_id registration_date  \n",
       "0  RafaFutym@gmail.com  565462241           0        2022-02-12  \n",
       "1     HuberŚle40@o2.pl  411276177           1        2022-07-05  \n",
       "2        MichaWa@wp.pl  872630812           2        2021-08-13  \n",
       "3      AnitMagry@o2.pl  289656001           3        2021-03-01  \n",
       "4    JózDor72@live.com  251151747           4        2021-06-08  "
      ]
     },
     "execution_count": 14,
     "metadata": {},
     "output_type": "execute_result"
    }
   ],
   "source": [
    "customer.head()"
   ]
  },
  {
   "cell_type": "code",
   "execution_count": 6,
   "id": "c7fc3ee2",
   "metadata": {},
   "outputs": [],
   "source": [
    "#na koniec jeszxze uwzglednic czy vip czy nie"
   ]
  },
  {
   "cell_type": "code",
   "execution_count": 55,
   "id": "d700df3a",
   "metadata": {},
   "outputs": [],
   "source": [
    "n_all_rent = 100 #na poczatek dla spr\n",
    "n_customers = len(customer)\n",
    "n_inventory = len(inventory_rent)"
   ]
  },
  {
   "cell_type": "code",
   "execution_count": 56,
   "id": "36415972",
   "metadata": {},
   "outputs": [],
   "source": [
    "np.random.seed(42)"
   ]
  },
  {
   "cell_type": "code",
   "execution_count": 57,
   "id": "21642415",
   "metadata": {},
   "outputs": [],
   "source": [
    "rental_id = np.arange(1, n_all_rent + 1)\n",
    "customer_id = np.random.choice(np.arange(1, n_customers + 1), size = n_all_rent) #to raczej pozniej jak juz beda inventory\n",
    "inventory_id = np.random.choice(np.arange(1, n_inventory + 1), size = n_all_rent)"
   ]
  },
  {
   "cell_type": "code",
   "execution_count": 226,
   "id": "ffdafc05",
   "metadata": {},
   "outputs": [],
   "source": [
    "data = {\n",
    "    'rental_id' : rental_id,\n",
    "    'customer_id' : customer_id\n",
    "}"
   ]
  },
  {
   "cell_type": "code",
   "execution_count": 227,
   "id": "54e7a40e",
   "metadata": {},
   "outputs": [
    {
     "data": {
      "text/html": [
       "<div>\n",
       "<style scoped>\n",
       "    .dataframe tbody tr th:only-of-type {\n",
       "        vertical-align: middle;\n",
       "    }\n",
       "\n",
       "    .dataframe tbody tr th {\n",
       "        vertical-align: top;\n",
       "    }\n",
       "\n",
       "    .dataframe thead th {\n",
       "        text-align: right;\n",
       "    }\n",
       "</style>\n",
       "<table border=\"1\" class=\"dataframe\">\n",
       "  <thead>\n",
       "    <tr style=\"text-align: right;\">\n",
       "      <th></th>\n",
       "      <th>rental_id</th>\n",
       "      <th>customer_id</th>\n",
       "    </tr>\n",
       "  </thead>\n",
       "  <tbody>\n",
       "    <tr>\n",
       "      <th>0</th>\n",
       "      <td>1</td>\n",
       "      <td>103</td>\n",
       "    </tr>\n",
       "    <tr>\n",
       "      <th>1</th>\n",
       "      <td>2</td>\n",
       "      <td>349</td>\n",
       "    </tr>\n",
       "    <tr>\n",
       "      <th>2</th>\n",
       "      <td>3</td>\n",
       "      <td>271</td>\n",
       "    </tr>\n",
       "    <tr>\n",
       "      <th>3</th>\n",
       "      <td>4</td>\n",
       "      <td>107</td>\n",
       "    </tr>\n",
       "    <tr>\n",
       "      <th>4</th>\n",
       "      <td>5</td>\n",
       "      <td>72</td>\n",
       "    </tr>\n",
       "  </tbody>\n",
       "</table>\n",
       "</div>"
      ],
      "text/plain": [
       "   rental_id  customer_id\n",
       "0          1          103\n",
       "1          2          349\n",
       "2          3          271\n",
       "3          4          107\n",
       "4          5           72"
      ]
     },
     "execution_count": 227,
     "metadata": {},
     "output_type": "execute_result"
    }
   ],
   "source": [
    "rental = pd.DataFrame(data)\n",
    "rental.head()"
   ]
  },
  {
   "cell_type": "code",
   "execution_count": 84,
   "id": "c32738af",
   "metadata": {},
   "outputs": [],
   "source": [
    "#warunki\n",
    "    # 1. osoba moze wypozyczyc gre adekwatną do swojego wieku\n",
    "    # 2. nie mozna wypozyczyc gry ktora nie zostala jeszcze oddana\n",
    "    # 3. return date bedzie pomiedzy rental_date a rental_date + tydzien z pr np 0.7 a rental_date + tdyzien + np 5 dni z pr 0.3\n",
    "    # 4. mozna generowac rental_date dla kazdego inventory_id osobno zeby uniknac tego co w kom nr 2\n",
    "    # 5. staff_id - jesli rental_date to niedziela to staff_id to 1, w reszte dat generuj 1,2,3,4,5 z takim samym p-stwem"
   ]
  },
  {
   "cell_type": "code",
   "execution_count": 86,
   "id": "071b0c36",
   "metadata": {},
   "outputs": [],
   "source": [
    "# wez indeksy (rental_id) wszystkich tych samych inventory_d\n",
    "#GÓWNO XD\n",
    "inv_index = {}\n",
    "for i in rental['inventory_id']:\n",
    "    inv_index.update #dopisz do slownika inventory id jesli go nie ma (klucz) i jako wartosc rental_id, jesli j\n",
    "    #uz ten klucz jest to tylko do niego dopisz rental_id"
   ]
  },
  {
   "cell_type": "code",
   "execution_count": 206,
   "id": "5143262a",
   "metadata": {},
   "outputs": [],
   "source": [
    "# pierwsze wypozyczenie (losowanie) pierwszego dnia kiedy powstał sklep\n",
    "def days_from_last_rent():\n",
    "    possible_days = [0, np.random.randint(1,9), np.random.randint(9,26), np.random.randint(26,61), \n",
    "                     np.random.randint(61, 121)]\n",
    "    prob = [0.1, 0.45, 0.35, 0.09, 0.01]\n",
    "    return int(np.random.choice(possible_days, p = prob))"
   ]
  },
  {
   "cell_type": "code",
   "execution_count": 225,
   "id": "0b8f7fbd",
   "metadata": {},
   "outputs": [],
   "source": [
    "# 0 bo moga przyjsc pograc na miejscu i od razu oddac\n",
    "def rent_days():\n",
    "    possible_days = [0, np.random.randint(1,8), np.random.randint(8,14), np.random.randint(15,31),\n",
    "                     np.random.randint(31, 61), np.random.randint(61, 121), np.random.randint(121, 672)]\n",
    "    prob = [0.35, 0.417, 0.12, 0.05, 0.02, 0.02, 0.015, 0.005, 0.003]\n",
    "    return int(np.random.choice(possible_days, p = prob))"
   ]
  },
  {
   "cell_type": "code",
   "execution_count": 215,
   "id": "91dbde09",
   "metadata": {},
   "outputs": [
    {
     "data": {
      "text/plain": [
       "1"
      ]
     },
     "execution_count": 215,
     "metadata": {},
     "output_type": "execute_result"
    }
   ],
   "source": [
    "rent_days()"
   ]
  },
  {
   "cell_type": "code",
   "execution_count": 216,
   "id": "cbe503e0",
   "metadata": {},
   "outputs": [],
   "source": [
    "# dla kazdego inventory_id bedziemy losowac historie wypozyczen i zwrotow, pozniej sklejamy wszystkie te historie i posortujemy po dacie\n",
    "def historia_wypozyczen():\n",
    " data_oddania = data_powstania_sklepu\n",
    " df = pd.DataFrame('invenotry_id', 'wypozyczenie', 'oddanie')\n",
    " for _ in inventory_id:\n",
    "  x = losuj_ile_dni_minelo_od_oddania_do_wypozyczenia()\n",
    "  y = losuj_ile_dni_trwalo_wypozyczenie()\n",
    "  data_wypozyczenia = data_oddania + x\n",
    "  data_oddania = data_wypozyczenia + y\n",
    "  new_row = {'invenotry_id': inventory_id, 'wypozyczenie': data_wypozyczenia, 'oddanie': data_oddania}\n",
    "  df = df.append(new_row, ignore_index=True)\n"
   ]
  },
  {
   "cell_type": "code",
   "execution_count": 97,
   "id": "7f7f23c6",
   "metadata": {},
   "outputs": [
    {
     "name": "stdout",
     "output_type": "stream",
     "text": [
      "2021-01-22\n"
     ]
    }
   ],
   "source": [
    "my_date = datetime.date(2021, 1,4) \n",
    "print(my_date + datetime.timedelta(days = 18))"
   ]
  },
  {
   "cell_type": "code",
   "execution_count": 224,
   "id": "8ceaa6f0",
   "metadata": {},
   "outputs": [
    {
     "ename": "ValueError",
     "evalue": "invalid literal for int() with base 10: 'NULL'",
     "output_type": "error",
     "traceback": [
      "\u001b[1;31m---------------------------------------------------------------------------\u001b[0m",
      "\u001b[1;31mValueError\u001b[0m                                Traceback (most recent call last)",
      "Cell \u001b[1;32mIn[224], line 8\u001b[0m\n\u001b[0;32m      5\u001b[0m rental_dates\u001b[38;5;241m.\u001b[39mappend(rental_date)\n\u001b[0;32m      7\u001b[0m \u001b[38;5;28;01mfor\u001b[39;00m _ \u001b[38;5;129;01min\u001b[39;00m inventory_id:\n\u001b[1;32m----> 8\u001b[0m     return_date \u001b[38;5;241m=\u001b[39m rental_date \u001b[38;5;241m+\u001b[39m datetime\u001b[38;5;241m.\u001b[39mtimedelta(days \u001b[38;5;241m=\u001b[39m \u001b[43mrent_days\u001b[49m\u001b[43m(\u001b[49m\u001b[43m)\u001b[49m)\n\u001b[0;32m      9\u001b[0m     return_dates\u001b[38;5;241m.\u001b[39mappend(return_date)\n\u001b[0;32m     10\u001b[0m     rental_date \u001b[38;5;241m=\u001b[39m return_date \u001b[38;5;241m+\u001b[39m datetime\u001b[38;5;241m.\u001b[39mtimedelta(days \u001b[38;5;241m=\u001b[39m days_from_last_rent())\n",
      "Cell \u001b[1;32mIn[214], line 6\u001b[0m, in \u001b[0;36mrent_days\u001b[1;34m()\u001b[0m\n\u001b[0;32m      3\u001b[0m possible_days \u001b[38;5;241m=\u001b[39m [\u001b[38;5;241m0\u001b[39m, np\u001b[38;5;241m.\u001b[39mrandom\u001b[38;5;241m.\u001b[39mrandint(\u001b[38;5;241m1\u001b[39m,\u001b[38;5;241m8\u001b[39m), np\u001b[38;5;241m.\u001b[39mrandom\u001b[38;5;241m.\u001b[39mrandint(\u001b[38;5;241m8\u001b[39m,\u001b[38;5;241m14\u001b[39m), np\u001b[38;5;241m.\u001b[39mrandom\u001b[38;5;241m.\u001b[39mrandint(\u001b[38;5;241m15\u001b[39m,\u001b[38;5;241m31\u001b[39m),\n\u001b[0;32m      4\u001b[0m                  np\u001b[38;5;241m.\u001b[39mrandom\u001b[38;5;241m.\u001b[39mrandint(\u001b[38;5;241m31\u001b[39m, \u001b[38;5;241m61\u001b[39m), np\u001b[38;5;241m.\u001b[39mrandom\u001b[38;5;241m.\u001b[39mrandint(\u001b[38;5;241m61\u001b[39m, \u001b[38;5;241m121\u001b[39m), \u001b[38;5;124m'\u001b[39m\u001b[38;5;124mNULL\u001b[39m\u001b[38;5;124m'\u001b[39m]\n\u001b[0;32m      5\u001b[0m prob \u001b[38;5;241m=\u001b[39m [\u001b[38;5;241m0.35\u001b[39m, \u001b[38;5;241m0.42\u001b[39m, \u001b[38;5;241m0.12\u001b[39m, \u001b[38;5;241m0.05\u001b[39m, \u001b[38;5;241m0.02\u001b[39m, \u001b[38;5;241m0.01\u001b[39m, \u001b[38;5;241m0.03\u001b[39m]\n\u001b[1;32m----> 6\u001b[0m \u001b[38;5;28;01mreturn\u001b[39;00m \u001b[38;5;28;43mint\u001b[39;49m\u001b[43m(\u001b[49m\u001b[43mnp\u001b[49m\u001b[38;5;241;43m.\u001b[39;49m\u001b[43mrandom\u001b[49m\u001b[38;5;241;43m.\u001b[39;49m\u001b[43mchoice\u001b[49m\u001b[43m(\u001b[49m\u001b[43mpossible_days\u001b[49m\u001b[43m,\u001b[49m\u001b[43m \u001b[49m\u001b[43mp\u001b[49m\u001b[43m \u001b[49m\u001b[38;5;241;43m=\u001b[39;49m\u001b[43m \u001b[49m\u001b[43mprob\u001b[49m\u001b[43m)\u001b[49m\u001b[43m)\u001b[49m\n",
      "\u001b[1;31mValueError\u001b[0m: invalid literal for int() with base 10: 'NULL'"
     ]
    }
   ],
   "source": [
    "rental_dates = []\n",
    "return_dates = []\n",
    "\n",
    "rental_date = datetime.date(2021, 1, 4)\n",
    "rental_dates.append(rental_date)\n",
    "\n",
    "for _ in inventory_id:\n",
    "    return_date = rental_date + datetime.timedelta(days = rent_days())\n",
    "    return_dates.append(return_date)\n",
    "    if return_date  '2023-06-15':\n",
    "    rental_date = return_date + datetime.timedelta(days = days_from_last_rent())\n",
    "    rental_dates.append(rental_date)\n",
    "    "
   ]
  },
  {
   "cell_type": "code",
   "execution_count": 223,
   "id": "740c323b",
   "metadata": {},
   "outputs": [
    {
     "data": {
      "text/plain": [
       "100"
      ]
     },
     "execution_count": 223,
     "metadata": {},
     "output_type": "execute_result"
    }
   ],
   "source": [
    "len(rental_dates)\n",
    "len(return_dates)"
   ]
  },
  {
   "cell_type": "code",
   "execution_count": null,
   "id": "633bce04",
   "metadata": {},
   "outputs": [],
   "source": []
  }
 ],
 "metadata": {
  "kernelspec": {
   "display_name": "Python 3 (ipykernel)",
   "language": "python",
   "name": "python3"
  },
  "language_info": {
   "codemirror_mode": {
    "name": "ipython",
    "version": 3
   },
   "file_extension": ".py",
   "mimetype": "text/x-python",
   "name": "python",
   "nbconvert_exporter": "python",
   "pygments_lexer": "ipython3",
   "version": "3.11.3"
  }
 },
 "nbformat": 4,
 "nbformat_minor": 5
}
