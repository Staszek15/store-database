{
 "cells": [
  {
   "cell_type": "code",
   "execution_count": 118,
   "metadata": {},
   "outputs": [],
   "source": [
    "import pandas as pd\n",
    "import numpy as np\n",
    "from datetime import datetime, timedelta"
   ]
  },
  {
   "cell_type": "code",
   "execution_count": 119,
   "metadata": {},
   "outputs": [],
   "source": [
    "staff = pd.read_csv('../staff/staff.csv')\n",
    "schedule = pd.read_csv('../create_staff_schedule/staff_schedule.csv')\n",
    "games = pd.read_csv('../game/game.csv')\n",
    "inv_rent = pd.read_csv('../inventory_rent/inventory_rent.csv')"
   ]
  },
  {
   "cell_type": "code",
   "execution_count": 120,
   "metadata": {},
   "outputs": [],
   "source": [
    "game_id = [9, 27, 33, 33, 7, 5, 36, 6, 1, 19]\n",
    "gg = pd.DataFrame(game_id)"
   ]
  },
  {
   "cell_type": "code",
   "execution_count": 121,
   "metadata": {},
   "outputs": [],
   "source": [
    "def generate_dates():\n",
    "    \n",
    "    number = np.random.randint(1,105)\n",
    "    if number%3 == 2:\n",
    "        period = number * 7\n",
    "    elif number%3 == 1:\n",
    "        period = number * 7 + 3\n",
    "    else:\n",
    "        period = number * 7 + 6\n",
    "        \n",
    "    start = datetime.strptime('2021-04-07', \"%Y-%m-%d\")\n",
    "    tournament_date = start + timedelta(days=period)\n",
    "\n",
    "    return(tournament_date)"
   ]
  },
  {
   "cell_type": "code",
   "execution_count": 122,
   "metadata": {},
   "outputs": [],
   "source": [
    "def first_element_to_integer(list_):\n",
    "    my_list = list_\n",
    "    return(my_list[-2])"
   ]
  },
  {
   "cell_type": "code",
   "execution_count": 123,
   "metadata": {},
   "outputs": [],
   "source": [
    "def generate_tournament_staff(date,schedule):\n",
    "    date_str = [date_obj.strftime('%Y-%m-%d') for date_obj in date]\n",
    "    date_str = pd.DataFrame(date_str)\n",
    "    date_str.columns=['date']\n",
    "    date_merge_staff = date_str.merge(schedule, on='date', how='left')\n",
    "    date_merge_staff\n",
    "    date_merge_staff['staff_ids'] = date_merge_staff['staff_ids'].apply(first_element_to_integer)\n",
    "    staff_id = date_merge_staff.staff_ids\n",
    "    return(staff_id)"
   ]
  },
  {
   "cell_type": "code",
   "execution_count": 124,
   "metadata": {},
   "outputs": [],
   "source": [
    "def generate_total_players(table_game,game_id, inventory_rent):\n",
    "    games_number = inventory_rent.game_id.value_counts()\n",
    "    availability_df = pd.DataFrame(games_number)\n",
    "    \n",
    "    games_table = table_game[['game_id','min_players','max_players','duration', 'max_players_in_team','min_players_in_team']]\n",
    "    game_id_df = pd.DataFrame(game_id, columns=['game_id'])\n",
    "    merged = game_id_df.merge(games_table, on='game_id', how='inner')\n",
    "    merged_availability = merged.merge(availability_df, on='game_id', how='inner')\n",
    "\n",
    "    total_num = []\n",
    "    for i in range(len(merged_availability)):\n",
    "        row = merged_availability.iloc[i]\n",
    "        \n",
    "        if row['count'] > 20:\n",
    "            boards_num = 16\n",
    "        elif row['count'] > 10 and row['count'] <= 20: \n",
    "            boards_num = int(np.ceil(row['count'] / 2))\n",
    "        else:\n",
    "            boards_num = row['count'] - 1\n",
    "        \n",
    "        if row.max_players_in_team > 1: \n",
    "            teams_per_board =  int(np.floor(row['max_players'] / row['max_players_in_team']))\n",
    "            players_all_board = [teams_per_board * row.max_players_in_team for i in range(boards_num)]\n",
    "            total_num.extend([np.sum(players_all_board)])\n",
    "\n",
    "        else:\n",
    "            players_per_board = [np.random.randint(row.min_players,row.max_players + 1) for i in range(boards_num)]\n",
    "            total_num.extend([np.sum(players_per_board)])\n",
    "            \n",
    "    merged_availability['total_players_number'] = total_num\n",
    "    \n",
    "    return(merged_availability.total_players_number)"
   ]
  },
  {
   "cell_type": "code",
   "execution_count": 131,
   "metadata": {},
   "outputs": [],
   "source": [
    "def generate_tournament(games, staff, inv_rent, schedule):\n",
    "    name = ['Cosmic Entertainment', 'Battlefields of Bonaparte', 'The Kobolds', 'Gaming Evening', 'Hamst&Furious', 'Indian Camp', 'Vietgame',\n",
    "             'Thematic Contest', 'Spring Tournament', 'Star Trek Day']\n",
    "    n = len(name)\n",
    "    tournament_id = np.arange(1, n+1)\n",
    "    game_id = [9, 27, 33, 33, 7, 5, 36, 6, 1, 19]\n",
    "    date = np.sort([generate_dates() for _ in range(n)])\n",
    "    \n",
    "    team_players_number = [games.max_players_in_team[games.game_id == i].values[0] for i in game_id]\n",
    "    total_players_number = generate_total_players(games, game_id, inv_rent)       \n",
    "    \n",
    "    staff_id = generate_tournament_staff(date,schedule)\n",
    "\n",
    "    tournaments_dict = {'tournament_id' : tournament_id,\n",
    "                    'name' : name,\n",
    "                    'date' : date,\n",
    "                    'game_id' : game_id,\n",
    "                    'team_players_number' : team_players_number,\n",
    "                    'staff_id' : staff_id,\n",
    "                    'total_players_number' : total_players_number\n",
    "                    }\n",
    "    \n",
    "    return pd.DataFrame(tournaments_dict)"
   ]
  },
  {
   "cell_type": "code",
   "execution_count": 132,
   "metadata": {},
   "outputs": [
    {
     "data": {
      "text/plain": [
       "datetime.datetime(2021, 10, 2, 0, 0)"
      ]
     },
     "execution_count": 132,
     "metadata": {},
     "output_type": "execute_result"
    }
   ],
   "source": [
    "generate_tournament(games,staff,inv_rent,schedule)"
   ]
  }
 ],
 "metadata": {
  "kernelspec": {
   "display_name": "base",
   "language": "python",
   "name": "python3"
  },
  "language_info": {
   "codemirror_mode": {
    "name": "ipython",
    "version": 3
   },
   "file_extension": ".py",
   "mimetype": "text/x-python",
   "name": "python",
   "nbconvert_exporter": "python",
   "pygments_lexer": "ipython3",
   "version": "3.9.13"
  },
  "orig_nbformat": 4
 },
 "nbformat": 4,
 "nbformat_minor": 2
}
